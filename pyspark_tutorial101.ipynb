{
 "cells": [
  {
   "cell_type": "code",
   "execution_count": 3,
   "id": "8d63824f-5a62-41e3-81b7-3bab05b371a0",
   "metadata": {},
   "outputs": [
    {
     "ename": "ModuleNotFoundError",
     "evalue": "No module named 'pypsark'",
     "output_type": "error",
     "traceback": [
      "\u001b[1;31m---------------------------------------------------------------------------\u001b[0m",
      "\u001b[1;31mModuleNotFoundError\u001b[0m                       Traceback (most recent call last)",
      "Cell \u001b[1;32mIn[3], line 1\u001b[0m\n\u001b[1;32m----> 1\u001b[0m \u001b[38;5;28;01mfrom\u001b[39;00m \u001b[38;5;21;01mpypsark\u001b[39;00m\u001b[38;5;21;01m.\u001b[39;00m\u001b[38;5;21;01msql\u001b[39;00m \u001b[38;5;28;01mimport\u001b[39;00m SparkSession\n",
      "\u001b[1;31mModuleNotFoundError\u001b[0m: No module named 'pypsark'"
     ]
    }
   ],
   "source": [
    "from pypsark.sql import SparkSession"
   ]
  },
  {
   "cell_type": "code",
   "execution_count": 2,
   "id": "51c9e8f2-92b2-4251-b452-4fdea80fcd7c",
   "metadata": {},
   "outputs": [
    {
     "name": "stdout",
     "output_type": "stream",
     "text": [
      "Requirement already satisfied: pyspark in c:\\users\\user\\.conda\\envs\\env_pyspark\\lib\\site-packages (3.5.1)\n",
      "Requirement already satisfied: py4j==0.10.9.7 in c:\\users\\user\\.conda\\envs\\env_pyspark\\lib\\site-packages (from pyspark) (0.10.9.7)\n"
     ]
    }
   ],
   "source": [
    "!pip install pyspark"
   ]
  },
  {
   "cell_type": "code",
   "execution_count": 3,
   "id": "5494b35c-88fe-40b7-858b-84b1ce636b17",
   "metadata": {},
   "outputs": [],
   "source": [
    "import pyspark"
   ]
  },
  {
   "cell_type": "code",
   "execution_count": 4,
   "id": "a14f8711-46c6-495c-9c35-c393a4f9c325",
   "metadata": {},
   "outputs": [
    {
     "data": {
      "text/plain": [
       "pandas.core.frame.DataFrame"
      ]
     },
     "execution_count": 4,
     "metadata": {},
     "output_type": "execute_result"
    }
   ],
   "source": [
    "import pandas as pd\n",
    "type(pd.read_csv(r'C:\\Users\\User\\Desktop\\nachmann\\Section 9 Completed Backtrack\\(01)SECTION 09 - PISTONS ( 07-03-23 ) (1) (1)\\Merge\\merged-files.csv'))"
   ]
  },
  {
   "cell_type": "code",
   "execution_count": 4,
   "id": "ded5bdad-27a2-4063-9f89-fa8209c6dbdd",
   "metadata": {},
   "outputs": [],
   "source": [
    "from pyspark.sql import SparkSession"
   ]
  },
  {
   "cell_type": "code",
   "execution_count": 5,
   "id": "40e0d979-cddc-4bcd-a638-eefb6788aee6",
   "metadata": {},
   "outputs": [],
   "source": [
    "spark = SparkSession.builder.appName('Practice').getOrCreate()"
   ]
  },
  {
   "cell_type": "code",
   "execution_count": 6,
   "id": "8338aaaf-0394-409c-9d4a-356db384d308",
   "metadata": {},
   "outputs": [
    {
     "data": {
      "text/html": [
       "\n",
       "            <div>\n",
       "                <p><b>SparkSession - in-memory</b></p>\n",
       "                \n",
       "        <div>\n",
       "            <p><b>SparkContext</b></p>\n",
       "\n",
       "            <p><a href=\"http://DESKTOP-EIAKJ6F:4040\">Spark UI</a></p>\n",
       "\n",
       "            <dl>\n",
       "              <dt>Version</dt>\n",
       "                <dd><code>v3.5.1</code></dd>\n",
       "              <dt>Master</dt>\n",
       "                <dd><code>local[*]</code></dd>\n",
       "              <dt>AppName</dt>\n",
       "                <dd><code>Practice</code></dd>\n",
       "            </dl>\n",
       "        </div>\n",
       "        \n",
       "            </div>\n",
       "        "
      ],
      "text/plain": [
       "<pyspark.sql.session.SparkSession at 0x13ec4ccced0>"
      ]
     },
     "execution_count": 6,
     "metadata": {},
     "output_type": "execute_result"
    }
   ],
   "source": [
    "spark"
   ]
  },
  {
   "cell_type": "code",
   "execution_count": 8,
   "id": "3028b51a-d0d0-49e3-be93-159e2c3df508",
   "metadata": {},
   "outputs": [],
   "source": [
    "#Read the dataset\n",
    "df_pyspark = spark.read.csv(r'C:\\Users\\User\\Desktop\\nachmann\\Section 9 Completed Backtrack\\(01)SECTION 09 - PISTONS ( 07-03-23 ) (1) (1)\\Merge\\merged-files.csv')"
   ]
  },
  {
   "cell_type": "code",
   "execution_count": 9,
   "id": "b0bbf865-d155-43e3-aad0-8e09f486bfcb",
   "metadata": {},
   "outputs": [
    {
     "name": "stdout",
     "output_type": "stream",
     "text": [
      "+--------------+----------+-----------+----+------+--------------------+--------+---------+------+---------------+--------------------+----------------+-----------+\n",
      "|           _c0|       _c1|        _c2| _c3|   _c4|                 _c5|     _c6|      _c7|   _c8|            _c9|                _c10|            _c11|       _c12|\n",
      "+--------------+----------+-----------+----+------+--------------------+--------+---------+------+---------------+--------------------+----------------+-----------+\n",
      "|       Segment|      Make|      Model|Year|Vendor|         Vendor Code|Position|      MPN|   SKU|   Product Type|        Vendor Notes|          Unique|      Match|\n",
      "|          Snow|Arctic Cat|Cheetah 340|1972|  NACH|NACHMAN INTERNATI...|  Piston|09-501-01|NB9501|TOP END BEARING|SIZE: 60.00MM; OE...|1972 Cheetah 340|       #N/A|\n",
      "|          Snow|Arctic Cat|Cheetah 340|1973|  NACH|NACHMAN INTERNATI...|  Piston|09-501-01|NB9501|TOP END BEARING|SIZE: 60.00MM; OE...|1973 Cheetah 340|       #N/A|\n",
      "|          Snow|Arctic Cat|Cheetah 340|1974|  NACH|NACHMAN INTERNATI...|  Piston|09-501-01|NB9501|TOP END BEARING|SIZE: 60.00MM; OE...|1974 Cheetah 340|Cheetah 340|\n",
      "|          Snow|Arctic Cat|Cheetah 340|1975|  NACH|NACHMAN INTERNATI...|  Piston|09-501-01|NB9501|TOP END BEARING|SIZE: 60.00MM; OE...|1975 Cheetah 340|Cheetah 340|\n",
      "|          Snow|Arctic Cat|Bearcat 340|1995|  NACH|NACHMAN INTERNATI...|  Piston|09-501-01|NB9501|TOP END BEARING|SIZE: 60.00MM;  O...|1995 Bearcat 340|Bearcat 340|\n",
      "|          Snow|Arctic Cat|Bearcat 340|1996|  NACH|NACHMAN INTERNATI...|  Piston|09-501-01|NB9501|TOP END BEARING|SIZE: 60.00MM;  O...|1996 Bearcat 340|Bearcat 340|\n",
      "|          Snow|Arctic Cat|Bearcat 340|1997|  NACH|NACHMAN INTERNATI...|  Piston|09-501-01|NB9501|TOP END BEARING|SIZE: 60.00MM;  O...|1997 Bearcat 340|Bearcat 340|\n",
      "|          Snow|Arctic Cat|Bearcat 340|1998|  NACH|NACHMAN INTERNATI...|  Piston|09-501-01|NB9501|TOP END BEARING|SIZE: 60.00MM;  O...|1998 Bearcat 340|Bearcat 340|\n",
      "|          Snow|Arctic Cat|Bearcat 340|1999|  NACH|NACHMAN INTERNATI...|  Piston|09-501-01|NB9501|TOP END BEARING|SIZE: 60.00MM;  O...|1999 Bearcat 340|Bearcat 340|\n",
      "|          Snow|Arctic Cat|Bearcat 340|2000|  NACH|NACHMAN INTERNATI...|  Piston|09-501-01|NB9501|TOP END BEARING|SIZE: 60.00MM;  O...|2000 Bearcat 340|Bearcat 340|\n",
      "|          Snow|   Polaris|   Sport GT|1989|  NACH|NACHMAN INTERNATI...|  Piston|09-501-01|NB9501|TOP END BEARING|SIZE: 62.30MM; RE...|   1989 Sport GT|       #N/A|\n",
      "|          Snow|   Polaris|   Sport GT|1990|  NACH|NACHMAN INTERNATI...|  Piston|09-501-01|NB9501|TOP END BEARING|SIZE: 62.30MM; RE...|   1990 Sport GT|   Sport GT|\n",
      "|          Snow|   Polaris|   Sport GT|1991|  NACH|NACHMAN INTERNATI...|  Piston|09-501-01|NB9501|TOP END BEARING|SIZE: 62.30MM; RE...|   1991 Sport GT|   Sport GT|\n",
      "|          Snow|   Polaris|   Sport GT|1992|  NACH|NACHMAN INTERNATI...|  Piston|09-501-01|NB9501|TOP END BEARING|SIZE: 62.30MM; RE...|   1992 Sport GT|   Sport GT|\n",
      "|          Snow|   Polaris|   Sport GT|1993|  NACH|NACHMAN INTERNATI...|  Piston|09-501-01|NB9501|TOP END BEARING|SIZE: 62.30MM; RE...|   1993 Sport GT|       #N/A|\n",
      "|          Snow|   Polaris|   Sport GT|1994|  NACH|NACHMAN INTERNATI...|  Piston|09-501-01|NB9501|TOP END BEARING|SIZE: 62.30MM; RE...|   1994 Sport GT|       #N/A|\n",
      "|          Snow|   Polaris|   Sport GT|1995|  NACH|NACHMAN INTERNATI...|  Piston|09-501-01|NB9501|TOP END BEARING|SIZE: 62.30MM; RE...|   1995 Sport GT|       #N/A|\n",
      "|          Snow|   Polaris|   Sport GT|1996|  NACH|NACHMAN INTERNATI...|  Piston|09-501-01|NB9501|TOP END BEARING|SIZE: 62.30MM; RE...|   1996 Sport GT|       #N/A|\n",
      "|American VTwin|   Polaris|        XLT|1993|  NACH|NACHMAN INTERNATI...|  Piston|09-501-01|NB9501|TOP END BEARING|SIZE: 64.00MM; RE...|        1993 XLT|        XLT|\n",
      "+--------------+----------+-----------+----+------+--------------------+--------+---------+------+---------------+--------------------+----------------+-----------+\n",
      "only showing top 20 rows\n",
      "\n"
     ]
    }
   ],
   "source": [
    "df_pyspark.show()"
   ]
  },
  {
   "cell_type": "code",
   "execution_count": 19,
   "id": "b32dfd6a-0bbd-4d71-a2a9-cc66a29cbd14",
   "metadata": {},
   "outputs": [
    {
     "name": "stdout",
     "output_type": "stream",
     "text": [
      "+--------------+----------+-----------+----+------+--------------------+--------+---------+------+---------------+--------------------+----------------+-----------+\n",
      "|       Segment|      Make|      Model|Year|Vendor|         Vendor Code|Position|      MPN|   SKU|   Product Type|        Vendor Notes|          Unique|      Match|\n",
      "+--------------+----------+-----------+----+------+--------------------+--------+---------+------+---------------+--------------------+----------------+-----------+\n",
      "|          Snow|Arctic Cat|Cheetah 340|1972|  NACH|NACHMAN INTERNATI...|  Piston|09-501-01|NB9501|TOP END BEARING|SIZE: 60.00MM; OE...|1972 Cheetah 340|       #N/A|\n",
      "|          Snow|Arctic Cat|Cheetah 340|1973|  NACH|NACHMAN INTERNATI...|  Piston|09-501-01|NB9501|TOP END BEARING|SIZE: 60.00MM; OE...|1973 Cheetah 340|       #N/A|\n",
      "|          Snow|Arctic Cat|Cheetah 340|1974|  NACH|NACHMAN INTERNATI...|  Piston|09-501-01|NB9501|TOP END BEARING|SIZE: 60.00MM; OE...|1974 Cheetah 340|Cheetah 340|\n",
      "|          Snow|Arctic Cat|Cheetah 340|1975|  NACH|NACHMAN INTERNATI...|  Piston|09-501-01|NB9501|TOP END BEARING|SIZE: 60.00MM; OE...|1975 Cheetah 340|Cheetah 340|\n",
      "|          Snow|Arctic Cat|Bearcat 340|1995|  NACH|NACHMAN INTERNATI...|  Piston|09-501-01|NB9501|TOP END BEARING|SIZE: 60.00MM;  O...|1995 Bearcat 340|Bearcat 340|\n",
      "|          Snow|Arctic Cat|Bearcat 340|1996|  NACH|NACHMAN INTERNATI...|  Piston|09-501-01|NB9501|TOP END BEARING|SIZE: 60.00MM;  O...|1996 Bearcat 340|Bearcat 340|\n",
      "|          Snow|Arctic Cat|Bearcat 340|1997|  NACH|NACHMAN INTERNATI...|  Piston|09-501-01|NB9501|TOP END BEARING|SIZE: 60.00MM;  O...|1997 Bearcat 340|Bearcat 340|\n",
      "|          Snow|Arctic Cat|Bearcat 340|1998|  NACH|NACHMAN INTERNATI...|  Piston|09-501-01|NB9501|TOP END BEARING|SIZE: 60.00MM;  O...|1998 Bearcat 340|Bearcat 340|\n",
      "|          Snow|Arctic Cat|Bearcat 340|1999|  NACH|NACHMAN INTERNATI...|  Piston|09-501-01|NB9501|TOP END BEARING|SIZE: 60.00MM;  O...|1999 Bearcat 340|Bearcat 340|\n",
      "|          Snow|Arctic Cat|Bearcat 340|2000|  NACH|NACHMAN INTERNATI...|  Piston|09-501-01|NB9501|TOP END BEARING|SIZE: 60.00MM;  O...|2000 Bearcat 340|Bearcat 340|\n",
      "|          Snow|   Polaris|   Sport GT|1989|  NACH|NACHMAN INTERNATI...|  Piston|09-501-01|NB9501|TOP END BEARING|SIZE: 62.30MM; RE...|   1989 Sport GT|       #N/A|\n",
      "|          Snow|   Polaris|   Sport GT|1990|  NACH|NACHMAN INTERNATI...|  Piston|09-501-01|NB9501|TOP END BEARING|SIZE: 62.30MM; RE...|   1990 Sport GT|   Sport GT|\n",
      "|          Snow|   Polaris|   Sport GT|1991|  NACH|NACHMAN INTERNATI...|  Piston|09-501-01|NB9501|TOP END BEARING|SIZE: 62.30MM; RE...|   1991 Sport GT|   Sport GT|\n",
      "|          Snow|   Polaris|   Sport GT|1992|  NACH|NACHMAN INTERNATI...|  Piston|09-501-01|NB9501|TOP END BEARING|SIZE: 62.30MM; RE...|   1992 Sport GT|   Sport GT|\n",
      "|          Snow|   Polaris|   Sport GT|1993|  NACH|NACHMAN INTERNATI...|  Piston|09-501-01|NB9501|TOP END BEARING|SIZE: 62.30MM; RE...|   1993 Sport GT|       #N/A|\n",
      "|          Snow|   Polaris|   Sport GT|1994|  NACH|NACHMAN INTERNATI...|  Piston|09-501-01|NB9501|TOP END BEARING|SIZE: 62.30MM; RE...|   1994 Sport GT|       #N/A|\n",
      "|          Snow|   Polaris|   Sport GT|1995|  NACH|NACHMAN INTERNATI...|  Piston|09-501-01|NB9501|TOP END BEARING|SIZE: 62.30MM; RE...|   1995 Sport GT|       #N/A|\n",
      "|          Snow|   Polaris|   Sport GT|1996|  NACH|NACHMAN INTERNATI...|  Piston|09-501-01|NB9501|TOP END BEARING|SIZE: 62.30MM; RE...|   1996 Sport GT|       #N/A|\n",
      "|American VTwin|   Polaris|        XLT|1993|  NACH|NACHMAN INTERNATI...|  Piston|09-501-01|NB9501|TOP END BEARING|SIZE: 64.00MM; RE...|        1993 XLT|        XLT|\n",
      "|American VTwin|   Polaris|        XLT|1994|  NACH|NACHMAN INTERNATI...|  Piston|09-501-01|NB9501|TOP END BEARING|SIZE: 64.00MM; RE...|        1994 XLT|        XLT|\n",
      "+--------------+----------+-----------+----+------+--------------------+--------+---------+------+---------------+--------------------+----------------+-----------+\n",
      "only showing top 20 rows\n",
      "\n"
     ]
    }
   ],
   "source": [
    "spark.read.option('header','true').csv(r'C:\\Users\\User\\Desktop\\nachmann\\Section 9 Completed Backtrack\\(01)SECTION 09 - PISTONS ( 07-03-23 ) (1) (1)\\Merge\\merged-files.csv').show()"
   ]
  },
  {
   "cell_type": "code",
   "execution_count": 162,
   "id": "95d63306-6e22-486a-8ad8-8b679c433228",
   "metadata": {},
   "outputs": [],
   "source": [
    "#Save it to df\n",
    "df_pyspark = spark.read.option('header','true').csv(r'C:\\Users\\User\\Desktop\\nachmann\\Section 9 Completed Backtrack\\(01)SECTION 09 - PISTONS ( 07-03-23 ) (1) (1)\\Merge\\merged-files.csv')"
   ]
  },
  {
   "cell_type": "code",
   "execution_count": 12,
   "id": "217449dd-6e2c-42d6-a491-cd61fa18c86a",
   "metadata": {},
   "outputs": [
    {
     "data": {
      "text/plain": [
       "pyspark.sql.dataframe.DataFrame"
      ]
     },
     "execution_count": 12,
     "metadata": {},
     "output_type": "execute_result"
    }
   ],
   "source": [
    "type(df_pyspark)"
   ]
  },
  {
   "cell_type": "code",
   "execution_count": 13,
   "id": "8881f1d7-7d58-4762-bdb1-c1f98d7b5110",
   "metadata": {},
   "outputs": [
    {
     "data": {
      "text/plain": [
       "Row(Segment='Snow', Make='Arctic Cat', Model='Cheetah 340', Year='1972', Vendor='NACH', Vendor Code='NACHMAN INTERNATIONAL CO. LTD', Position='Piston', MPN='09-501-01', SKU='NB9501', Product Type='TOP END BEARING', Vendor Notes='SIZE: 60.00MM; OEM: 3000-218', Unique='1972 Cheetah 340', Match='#N/A')"
      ]
     },
     "execution_count": 13,
     "metadata": {},
     "output_type": "execute_result"
    }
   ],
   "source": [
    "df_pyspark.head()"
   ]
  },
  {
   "cell_type": "code",
   "execution_count": 14,
   "id": "b11af6a0-dddf-4078-9461-29170f299392",
   "metadata": {},
   "outputs": [
    {
     "name": "stdout",
     "output_type": "stream",
     "text": [
      "root\n",
      " |-- Segment: string (nullable = true)\n",
      " |-- Make: string (nullable = true)\n",
      " |-- Model: string (nullable = true)\n",
      " |-- Year: string (nullable = true)\n",
      " |-- Vendor: string (nullable = true)\n",
      " |-- Vendor Code: string (nullable = true)\n",
      " |-- Position: string (nullable = true)\n",
      " |-- MPN: string (nullable = true)\n",
      " |-- SKU: string (nullable = true)\n",
      " |-- Product Type: string (nullable = true)\n",
      " |-- Vendor Notes: string (nullable = true)\n",
      " |-- Unique: string (nullable = true)\n",
      " |-- Match: string (nullable = true)\n",
      "\n"
     ]
    }
   ],
   "source": [
    "#Checking the Schema\n",
    "df_pyspark.printSchema()"
   ]
  },
  {
   "cell_type": "code",
   "execution_count": 173,
   "id": "988c19da-31fe-424d-8b58-e1008eb88e21",
   "metadata": {},
   "outputs": [
    {
     "name": "stdout",
     "output_type": "stream",
     "text": [
      "+--------------+------------------+------------+----+--------------------+\n",
      "|          Type|              Make|       Model|Year|              Unique|\n",
      "+--------------+------------------+------------+----+--------------------+\n",
      "|American VTwin|American IronHorse|     Bandera|2008|American IronHors...|\n",
      "|American VTwin|American IronHorse|     Bandera|2009|American IronHors...|\n",
      "|American VTwin|American IronHorse|      Bandit|2000|American IronHors...|\n",
      "|American VTwin|American IronHorse|     Classic|2000|American IronHors...|\n",
      "|American VTwin|American IronHorse|     Classic|2001|American IronHors...|\n",
      "|American VTwin|American IronHorse|     Classic|2002|American IronHors...|\n",
      "|American VTwin|American IronHorse|Classic Chop|2008|American IronHors...|\n",
      "|American VTwin|American IronHorse|       Judge|2009|American IronHors...|\n",
      "|American VTwin|American IronHorse|      Legend|2001|American IronHors...|\n",
      "|American VTwin|American IronHorse|      Legend|2002|American IronHors...|\n",
      "|American VTwin|American IronHorse|      Legend|2003|American IronHors...|\n",
      "|American VTwin|American IronHorse|      Legend|2004|American IronHors...|\n",
      "|American VTwin|American IronHorse|      Legend|2005|American IronHors...|\n",
      "|American VTwin|American IronHorse|      Legend|2006|American IronHors...|\n",
      "|American VTwin|American IronHorse|      Legend|2007|American IronHors...|\n",
      "|American VTwin|American IronHorse|         LSC|2005|American IronHors...|\n",
      "|American VTwin|American IronHorse|         LSC|2006|American IronHors...|\n",
      "|American VTwin|American IronHorse|         LSC|2007|American IronHors...|\n",
      "|American VTwin|American IronHorse|      Outlaw|2000|American IronHors...|\n",
      "|American VTwin|American IronHorse|      Outlaw|2001|American IronHors...|\n",
      "+--------------+------------------+------------+----+--------------------+\n",
      "only showing top 20 rows\n",
      "\n"
     ]
    }
   ],
   "source": [
    "df_pyspark=spark.read.csv(r'C:\\Users\\User\\Desktop\\nachmann\\Merged Template 1\\merged-files.csv', header=True, inferSchema=True)\n",
    "df_pyspark.show()"
   ]
  },
  {
   "cell_type": "code",
   "execution_count": 174,
   "id": "4e051e8a-e204-4917-9a5b-0dfcbbda93d0",
   "metadata": {},
   "outputs": [
    {
     "name": "stdout",
     "output_type": "stream",
     "text": [
      "root\n",
      " |-- Type: string (nullable = true)\n",
      " |-- Make: string (nullable = true)\n",
      " |-- Model: string (nullable = true)\n",
      " |-- Year: integer (nullable = true)\n",
      " |-- Unique: string (nullable = true)\n",
      "\n"
     ]
    }
   ],
   "source": [
    "#Checking the Schema\n",
    "df_pyspark.printSchema()"
   ]
  },
  {
   "cell_type": "code",
   "execution_count": 175,
   "id": "86fcb2db-e6d1-4543-ad69-d2c0485f00de",
   "metadata": {},
   "outputs": [
    {
     "data": {
      "text/plain": [
       "pyspark.sql.dataframe.DataFrame"
      ]
     },
     "execution_count": 175,
     "metadata": {},
     "output_type": "execute_result"
    }
   ],
   "source": [
    "type(df_pyspark)"
   ]
  },
  {
   "cell_type": "code",
   "execution_count": 176,
   "id": "2c196064-d1e3-4a7e-9cef-ca3dc4e36fe2",
   "metadata": {},
   "outputs": [
    {
     "data": {
      "text/plain": [
       "['Type', 'Make', 'Model', 'Year', 'Unique']"
      ]
     },
     "execution_count": 176,
     "metadata": {},
     "output_type": "execute_result"
    }
   ],
   "source": [
    "df_pyspark.columns"
   ]
  },
  {
   "cell_type": "code",
   "execution_count": 177,
   "id": "0157e6f3-fc35-4000-9fa8-c0eb18b7b6d4",
   "metadata": {},
   "outputs": [
    {
     "name": "stdout",
     "output_type": "stream",
     "text": [
      "+--------------+------------------+------------+----+\n",
      "|          Type|              Make|       Model|Year|\n",
      "+--------------+------------------+------------+----+\n",
      "|American VTwin|American IronHorse|     Bandera|2008|\n",
      "|American VTwin|American IronHorse|     Bandera|2009|\n",
      "|American VTwin|American IronHorse|      Bandit|2000|\n",
      "|American VTwin|American IronHorse|     Classic|2000|\n",
      "|American VTwin|American IronHorse|     Classic|2001|\n",
      "|American VTwin|American IronHorse|     Classic|2002|\n",
      "|American VTwin|American IronHorse|Classic Chop|2008|\n",
      "|American VTwin|American IronHorse|       Judge|2009|\n",
      "|American VTwin|American IronHorse|      Legend|2001|\n",
      "|American VTwin|American IronHorse|      Legend|2002|\n",
      "|American VTwin|American IronHorse|      Legend|2003|\n",
      "|American VTwin|American IronHorse|      Legend|2004|\n",
      "|American VTwin|American IronHorse|      Legend|2005|\n",
      "|American VTwin|American IronHorse|      Legend|2006|\n",
      "|American VTwin|American IronHorse|      Legend|2007|\n",
      "|American VTwin|American IronHorse|         LSC|2005|\n",
      "|American VTwin|American IronHorse|         LSC|2006|\n",
      "|American VTwin|American IronHorse|         LSC|2007|\n",
      "|American VTwin|American IronHorse|      Outlaw|2000|\n",
      "|American VTwin|American IronHorse|      Outlaw|2001|\n",
      "+--------------+------------------+------------+----+\n",
      "only showing top 20 rows\n",
      "\n"
     ]
    }
   ],
   "source": [
    "df_pyspark.select(['Type','Make','Model','Year']).show()"
   ]
  },
  {
   "cell_type": "code",
   "execution_count": 178,
   "id": "3c1760a6-ae92-4c5c-b858-0dc007a37e39",
   "metadata": {},
   "outputs": [
    {
     "name": "stdout",
     "output_type": "stream",
     "text": [
      "+-------+----------+-----+--------------------+------------------+------------+\n",
      "|summary|      Type| Make|               Model|              Year|      Unique|\n",
      "+-------+----------+-----+--------------------+------------------+------------+\n",
      "|  count|     37325|37325|               37325|             37325|       37325|\n",
      "|   mean|      NULL| NULL|   552.1208791208791| 2006.588479571333|        NULL|\n",
      "| stddev|      NULL| NULL|  336.47932908080753|14.860409539472762|        NULL|\n",
      "|    min|       ATV|  ATK|                 100|              1920|  ATK 125 CC|\n",
      "|    max|Watercraft| ZERO|mPact XTV 750 S G...|              2025|ZERO Zero XU|\n",
      "+-------+----------+-----+--------------------+------------------+------------+\n",
      "\n"
     ]
    }
   ],
   "source": [
    "df_pyspark.describe().show()"
   ]
  },
  {
   "cell_type": "code",
   "execution_count": 189,
   "id": "29217626-ff15-4ce6-bd88-bc29990a7bc1",
   "metadata": {},
   "outputs": [],
   "source": [
    "##adding delimiter \"<space>\" ###MAKING A UNIQUE ID\n",
    "from pyspark.sql.functions import concat, col, lit\n",
    "\n",
    "### I want to Concatenate the 'Year' and 'Model' with space at the center\n",
    "df_pyspark = df_pyspark.withColumn(\"Year_Model\", concat(col(\"Year\"),lit(\" \"), col(\"Model\")))"
   ]
  },
  {
   "cell_type": "code",
   "execution_count": 190,
   "id": "78198876-d807-4d85-ad00-10166545808a",
   "metadata": {},
   "outputs": [
    {
     "name": "stdout",
     "output_type": "stream",
     "text": [
      "+--------------+------------------+------------+----+-----------------+\n",
      "|          Type|              Make|       Model|Year|       Year_Model|\n",
      "+--------------+------------------+------------+----+-----------------+\n",
      "|American VTwin|American IronHorse|     Bandera|2008|     2008 Bandera|\n",
      "|American VTwin|American IronHorse|     Bandera|2009|     2009 Bandera|\n",
      "|American VTwin|American IronHorse|      Bandit|2000|      2000 Bandit|\n",
      "|American VTwin|American IronHorse|     Classic|2000|     2000 Classic|\n",
      "|American VTwin|American IronHorse|     Classic|2001|     2001 Classic|\n",
      "|American VTwin|American IronHorse|     Classic|2002|     2002 Classic|\n",
      "|American VTwin|American IronHorse|Classic Chop|2008|2008 Classic Chop|\n",
      "|American VTwin|American IronHorse|       Judge|2009|       2009 Judge|\n",
      "|American VTwin|American IronHorse|      Legend|2001|      2001 Legend|\n",
      "|American VTwin|American IronHorse|      Legend|2002|      2002 Legend|\n",
      "|American VTwin|American IronHorse|      Legend|2003|      2003 Legend|\n",
      "|American VTwin|American IronHorse|      Legend|2004|      2004 Legend|\n",
      "|American VTwin|American IronHorse|      Legend|2005|      2005 Legend|\n",
      "|American VTwin|American IronHorse|      Legend|2006|      2006 Legend|\n",
      "|American VTwin|American IronHorse|      Legend|2007|      2007 Legend|\n",
      "|American VTwin|American IronHorse|         LSC|2005|         2005 LSC|\n",
      "|American VTwin|American IronHorse|         LSC|2006|         2006 LSC|\n",
      "|American VTwin|American IronHorse|         LSC|2007|         2007 LSC|\n",
      "|American VTwin|American IronHorse|      Outlaw|2000|      2000 Outlaw|\n",
      "|American VTwin|American IronHorse|      Outlaw|2001|      2001 Outlaw|\n",
      "+--------------+------------------+------------+----+-----------------+\n",
      "only showing top 20 rows\n",
      "\n"
     ]
    }
   ],
   "source": [
    "df_pyspark.select(['Type', 'Make', 'Model','Year', 'Year_Model']).show()"
   ]
  },
  {
   "cell_type": "code",
   "execution_count": 195,
   "id": "5efa3bd4-d58e-450c-94c9-6a936e38eb3b",
   "metadata": {},
   "outputs": [],
   "source": [
    "##removing the delimeter \"<space>\" ####MAKING A UNIQUE ID\n",
    "from pyspark.sql.functions import concat, col\n",
    "df_pyspark = df_pyspark.withColumn('Unique_Year_Model', concat(col('Year'),col('Model')))"
   ]
  },
  {
   "cell_type": "code",
   "execution_count": 196,
   "id": "e6818301-a286-4596-b213-5b52a8cace48",
   "metadata": {},
   "outputs": [
    {
     "name": "stdout",
     "output_type": "stream",
     "text": [
      "+--------------+------------------+------------+----+-----------------+\n",
      "|          Type|              Make|       Model|Year|Unique_Year_Model|\n",
      "+--------------+------------------+------------+----+-----------------+\n",
      "|American VTwin|American IronHorse|     Bandera|2008|      2008Bandera|\n",
      "|American VTwin|American IronHorse|     Bandera|2009|      2009Bandera|\n",
      "|American VTwin|American IronHorse|      Bandit|2000|       2000Bandit|\n",
      "|American VTwin|American IronHorse|     Classic|2000|      2000Classic|\n",
      "|American VTwin|American IronHorse|     Classic|2001|      2001Classic|\n",
      "|American VTwin|American IronHorse|     Classic|2002|      2002Classic|\n",
      "|American VTwin|American IronHorse|Classic Chop|2008| 2008Classic Chop|\n",
      "|American VTwin|American IronHorse|       Judge|2009|        2009Judge|\n",
      "|American VTwin|American IronHorse|      Legend|2001|       2001Legend|\n",
      "|American VTwin|American IronHorse|      Legend|2002|       2002Legend|\n",
      "|American VTwin|American IronHorse|      Legend|2003|       2003Legend|\n",
      "|American VTwin|American IronHorse|      Legend|2004|       2004Legend|\n",
      "|American VTwin|American IronHorse|      Legend|2005|       2005Legend|\n",
      "|American VTwin|American IronHorse|      Legend|2006|       2006Legend|\n",
      "|American VTwin|American IronHorse|      Legend|2007|       2007Legend|\n",
      "|American VTwin|American IronHorse|         LSC|2005|          2005LSC|\n",
      "|American VTwin|American IronHorse|         LSC|2006|          2006LSC|\n",
      "|American VTwin|American IronHorse|         LSC|2007|          2007LSC|\n",
      "|American VTwin|American IronHorse|      Outlaw|2000|       2000Outlaw|\n",
      "|American VTwin|American IronHorse|      Outlaw|2001|       2001Outlaw|\n",
      "+--------------+------------------+------------+----+-----------------+\n",
      "only showing top 20 rows\n",
      "\n"
     ]
    }
   ],
   "source": [
    "df_pyspark.select(['Type', 'Make', 'Model', 'Year', 'Unique_Year_Model']).show()"
   ]
  },
  {
   "cell_type": "code",
   "execution_count": 197,
   "id": "526f3cce-3edf-420e-935a-cf7eac7c3757",
   "metadata": {},
   "outputs": [
    {
     "name": "stdout",
     "output_type": "stream",
     "text": [
      "+--------------+------------------+------------+----+-----------------+\n",
      "|          Type|              Make|       Model|Year|Unique_Year_Model|\n",
      "+--------------+------------------+------------+----+-----------------+\n",
      "|American VTwin|American IronHorse|     Bandera|2008|      2008Bandera|\n",
      "|American VTwin|American IronHorse|     Bandera|2009|      2009Bandera|\n",
      "|American VTwin|American IronHorse|      Bandit|2000|       2000Bandit|\n",
      "|American VTwin|American IronHorse|     Classic|2000|      2000Classic|\n",
      "|American VTwin|American IronHorse|     Classic|2001|      2001Classic|\n",
      "|American VTwin|American IronHorse|     Classic|2002|      2002Classic|\n",
      "|American VTwin|American IronHorse|Classic Chop|2008| 2008Classic Chop|\n",
      "|American VTwin|American IronHorse|       Judge|2009|        2009Judge|\n",
      "|American VTwin|American IronHorse|      Legend|2001|       2001Legend|\n",
      "|American VTwin|American IronHorse|      Legend|2002|       2002Legend|\n",
      "|American VTwin|American IronHorse|      Legend|2003|       2003Legend|\n",
      "|American VTwin|American IronHorse|      Legend|2004|       2004Legend|\n",
      "|American VTwin|American IronHorse|      Legend|2005|       2005Legend|\n",
      "|American VTwin|American IronHorse|      Legend|2006|       2006Legend|\n",
      "|American VTwin|American IronHorse|      Legend|2007|       2007Legend|\n",
      "|American VTwin|American IronHorse|         LSC|2005|          2005LSC|\n",
      "|American VTwin|American IronHorse|         LSC|2006|          2006LSC|\n",
      "|American VTwin|American IronHorse|         LSC|2007|          2007LSC|\n",
      "|American VTwin|American IronHorse|      Outlaw|2000|       2000Outlaw|\n",
      "|American VTwin|American IronHorse|      Outlaw|2001|       2001Outlaw|\n",
      "+--------------+------------------+------------+----+-----------------+\n",
      "only showing top 20 rows\n",
      "\n"
     ]
    }
   ],
   "source": [
    "ARI = df_pyspark.select(['Type', 'Make', 'Model', 'Year', 'Unique_Year_Model'])\n",
    "ARI.show()"
   ]
  },
  {
   "cell_type": "code",
   "execution_count": 198,
   "id": "5227397e-4d99-4292-b4bb-0edfd289612e",
   "metadata": {},
   "outputs": [
    {
     "name": "stdout",
     "output_type": "stream",
     "text": [
      "+-------+----------+-----------+----+------+-----------+--------+---------+----+---------------+--------------------+\n",
      "|Segment|      Make|      Model|Year|Vendor|Vendor Code|Position|      MPN| SKU|   Product Type|        Vendor Notes|\n",
      "+-------+----------+-----------+----+------+-----------+--------+---------+----+---------------+--------------------+\n",
      "|   NULL|Arctic Cat|Cheetah 340|1972|  NULL|       NULL|  Piston|09-501-01|NULL|TOP END BEARING|SIZE: 60.00MM; OE...|\n",
      "|   NULL|Arctic Cat|Cheetah 340|1973|  NULL|       NULL|  Piston|09-501-01|NULL|TOP END BEARING|SIZE: 60.00MM; OE...|\n",
      "|   NULL|Arctic Cat|Cheetah 340|1974|  NULL|       NULL|  Piston|09-501-01|NULL|TOP END BEARING|SIZE: 60.00MM; OE...|\n",
      "|   NULL|Arctic Cat|Cheetah 340|1975|  NULL|       NULL|  Piston|09-501-01|NULL|TOP END BEARING|SIZE: 60.00MM; OE...|\n",
      "|   NULL|Arctic Cat|Bearcat 340|1995|  NULL|       NULL|  Piston|09-501-01|NULL|TOP END BEARING|SIZE: 60.00MM;  O...|\n",
      "|   NULL|Arctic Cat|Bearcat 340|1996|  NULL|       NULL|  Piston|09-501-01|NULL|TOP END BEARING|SIZE: 60.00MM;  O...|\n",
      "|   NULL|Arctic Cat|Bearcat 340|1997|  NULL|       NULL|  Piston|09-501-01|NULL|TOP END BEARING|SIZE: 60.00MM;  O...|\n",
      "|   NULL|Arctic Cat|Bearcat 340|1998|  NULL|       NULL|  Piston|09-501-01|NULL|TOP END BEARING|SIZE: 60.00MM;  O...|\n",
      "|   NULL|Arctic Cat|Bearcat 340|1999|  NULL|       NULL|  Piston|09-501-01|NULL|TOP END BEARING|SIZE: 60.00MM;  O...|\n",
      "|   NULL|Arctic Cat|Bearcat 340|2000|  NULL|       NULL|  Piston|09-501-01|NULL|TOP END BEARING|SIZE: 60.00MM;  O...|\n",
      "|   NULL|   Polaris|   Sport GT|1989|  NULL|       NULL|  Piston|09-501-01|NULL|TOP END BEARING|SIZE: 62.30MM; RE...|\n",
      "|   NULL|   Polaris|   Sport GT|1990|  NULL|       NULL|  Piston|09-501-01|NULL|TOP END BEARING|SIZE: 62.30MM; RE...|\n",
      "|   NULL|   Polaris|   Sport GT|1991|  NULL|       NULL|  Piston|09-501-01|NULL|TOP END BEARING|SIZE: 62.30MM; RE...|\n",
      "|   NULL|   Polaris|   Sport GT|1992|  NULL|       NULL|  Piston|09-501-01|NULL|TOP END BEARING|SIZE: 62.30MM; RE...|\n",
      "|   NULL|   Polaris|   Sport GT|1993|  NULL|       NULL|  Piston|09-501-01|NULL|TOP END BEARING|SIZE: 62.30MM; RE...|\n",
      "|   NULL|   Polaris|   Sport GT|1994|  NULL|       NULL|  Piston|09-501-01|NULL|TOP END BEARING|SIZE: 62.30MM; RE...|\n",
      "|   NULL|   Polaris|   Sport GT|1995|  NULL|       NULL|  Piston|09-501-01|NULL|TOP END BEARING|SIZE: 62.30MM; RE...|\n",
      "|   NULL|   Polaris|   Sport GT|1996|  NULL|       NULL|  Piston|09-501-01|NULL|TOP END BEARING|SIZE: 62.30MM; RE...|\n",
      "|   NULL|   Polaris|        XLT|1993|  NULL|       NULL|  Piston|09-501-01|NULL|TOP END BEARING|SIZE: 64.00MM; RE...|\n",
      "|   NULL|   Polaris|        XLT|1994|  NULL|       NULL|  Piston|09-501-01|NULL|TOP END BEARING|SIZE: 64.00MM; RE...|\n",
      "+-------+----------+-----------+----+------+-----------+--------+---------+----+---------------+--------------------+\n",
      "only showing top 20 rows\n",
      "\n"
     ]
    }
   ],
   "source": [
    "df_pyspark=spark.read.csv(r'C:\\Users\\User\\Desktop\\merged-files_practice_data.csv', header=True, inferSchema=True)\n",
    "df_pyspark.show()"
   ]
  },
  {
   "cell_type": "code",
   "execution_count": 200,
   "id": "1469c297-951d-490c-8801-b557b4111cea",
   "metadata": {},
   "outputs": [
    {
     "name": "stdout",
     "output_type": "stream",
     "text": [
      "+-------+----------+-----------+----+------+-----------+--------+---------+----+---------------+--------------------+\n",
      "|Segment|      Make|      Model|Year|Vendor|Vendor Code|Position|      MPN| SKU|   Product Type|        Vendor Notes|\n",
      "+-------+----------+-----------+----+------+-----------+--------+---------+----+---------------+--------------------+\n",
      "|   NULL|Arctic Cat|Cheetah 340|1972|  NULL|       NULL|  Piston|09-501-01|NULL|TOP END BEARING|SIZE: 60.00MM; OE...|\n",
      "|   NULL|Arctic Cat|Cheetah 340|1973|  NULL|       NULL|  Piston|09-501-01|NULL|TOP END BEARING|SIZE: 60.00MM; OE...|\n",
      "|   NULL|Arctic Cat|Cheetah 340|1974|  NULL|       NULL|  Piston|09-501-01|NULL|TOP END BEARING|SIZE: 60.00MM; OE...|\n",
      "|   NULL|Arctic Cat|Cheetah 340|1975|  NULL|       NULL|  Piston|09-501-01|NULL|TOP END BEARING|SIZE: 60.00MM; OE...|\n",
      "|   NULL|Arctic Cat|Bearcat 340|1995|  NULL|       NULL|  Piston|09-501-01|NULL|TOP END BEARING|SIZE: 60.00MM;  O...|\n",
      "|   NULL|Arctic Cat|Bearcat 340|1996|  NULL|       NULL|  Piston|09-501-01|NULL|TOP END BEARING|SIZE: 60.00MM;  O...|\n",
      "|   NULL|Arctic Cat|Bearcat 340|1997|  NULL|       NULL|  Piston|09-501-01|NULL|TOP END BEARING|SIZE: 60.00MM;  O...|\n",
      "|   NULL|Arctic Cat|Bearcat 340|1998|  NULL|       NULL|  Piston|09-501-01|NULL|TOP END BEARING|SIZE: 60.00MM;  O...|\n",
      "|   NULL|Arctic Cat|Bearcat 340|1999|  NULL|       NULL|  Piston|09-501-01|NULL|TOP END BEARING|SIZE: 60.00MM;  O...|\n",
      "|   NULL|Arctic Cat|Bearcat 340|2000|  NULL|       NULL|  Piston|09-501-01|NULL|TOP END BEARING|SIZE: 60.00MM;  O...|\n",
      "|   NULL|   Polaris|   Sport GT|1989|  NULL|       NULL|  Piston|09-501-01|NULL|TOP END BEARING|SIZE: 62.30MM; RE...|\n",
      "|   NULL|   Polaris|   Sport GT|1990|  NULL|       NULL|  Piston|09-501-01|NULL|TOP END BEARING|SIZE: 62.30MM; RE...|\n",
      "|   NULL|   Polaris|   Sport GT|1991|  NULL|       NULL|  Piston|09-501-01|NULL|TOP END BEARING|SIZE: 62.30MM; RE...|\n",
      "|   NULL|   Polaris|   Sport GT|1992|  NULL|       NULL|  Piston|09-501-01|NULL|TOP END BEARING|SIZE: 62.30MM; RE...|\n",
      "|   NULL|   Polaris|   Sport GT|1993|  NULL|       NULL|  Piston|09-501-01|NULL|TOP END BEARING|SIZE: 62.30MM; RE...|\n",
      "|   NULL|   Polaris|   Sport GT|1994|  NULL|       NULL|  Piston|09-501-01|NULL|TOP END BEARING|SIZE: 62.30MM; RE...|\n",
      "|   NULL|   Polaris|   Sport GT|1995|  NULL|       NULL|  Piston|09-501-01|NULL|TOP END BEARING|SIZE: 62.30MM; RE...|\n",
      "|   NULL|   Polaris|   Sport GT|1996|  NULL|       NULL|  Piston|09-501-01|NULL|TOP END BEARING|SIZE: 62.30MM; RE...|\n",
      "|   NULL|   Polaris|        XLT|1993|  NULL|       NULL|  Piston|09-501-01|NULL|TOP END BEARING|SIZE: 64.00MM; RE...|\n",
      "|   NULL|   Polaris|        XLT|1994|  NULL|       NULL|  Piston|09-501-01|NULL|TOP END BEARING|SIZE: 64.00MM; RE...|\n",
      "+-------+----------+-----------+----+------+-----------+--------+---------+----+---------------+--------------------+\n",
      "only showing top 20 rows\n",
      "\n"
     ]
    }
   ],
   "source": [
    "Data1 = df_pyspark=spark.read.csv(r'C:\\Users\\User\\Desktop\\merged-files_practice_data.csv', header=True, inferSchema=True)\n",
    "Data1.show()"
   ]
  },
  {
   "cell_type": "code",
   "execution_count": 212,
   "id": "a5c6b7ba-fb91-46b2-9f03-19097e8fb749",
   "metadata": {},
   "outputs": [
    {
     "name": "stdout",
     "output_type": "stream",
     "text": [
      "+------+-------+-----------+--------------------+----+\n",
      "|  Item|  Mfg/N|Vendor Code|         Vendor Name| _c4|\n",
      "+------+-------+-----------+--------------------+----+\n",
      "|671100|01-0100|     MOTION|    MOTION PRO. INC.|NULL|\n",
      "|140890|02-0100|     MOTION|    MOTION PRO. INC.|NULL|\n",
      "|141214|03-0100|     MOTION|    MOTION PRO. INC.|NULL|\n",
      "|141666|05-0100|     MOTION|    MOTION PRO. INC.|NULL|\n",
      "|760653|11-0100|     KSTECH|K & S TECHNOLOGIE...|NULL|\n",
      "|671101|01-0101|     MOTION|    MOTION PRO. INC.|NULL|\n",
      "|140891|02-0101|     MOTION|    MOTION PRO. INC.|NULL|\n",
      "|141215|03-0101|     MOTION|    MOTION PRO. INC.|NULL|\n",
      "|674101|04-0101|     MOTION|    MOTION PRO. INC.|NULL|\n",
      "|675101|05-0101|     MOTION|    MOTION PRO. INC.|NULL|\n",
      "|760654|11-0101|     KSTECH|K & S TECHNOLOGIE...|NULL|\n",
      "|760690|12-0101|     KSTECH|K & S TECHNOLOGIE...|NULL|\n",
      "|671102|01-0102|     MOTION|    MOTION PRO. INC.|NULL|\n",
      "|140892|02-0102|     MOTION|    MOTION PRO. INC.|NULL|\n",
      "|141216|03-0102|     MOTION|    MOTION PRO. INC.|NULL|\n",
      "|675102|05-0102|     MOTION|    MOTION PRO. INC.|NULL|\n",
      "|760692|12-0102|     KSTECH|K & S TECHNOLOGIE...|NULL|\n",
      "|671103|01-0103|     MOTION|    MOTION PRO. INC.|NULL|\n",
      "|140893|02-0103|     MOTION|    MOTION PRO. INC.|NULL|\n",
      "|141217|03-0103|     MOTION|    MOTION PRO. INC.|NULL|\n",
      "+------+-------+-----------+--------------------+----+\n",
      "only showing top 20 rows\n",
      "\n"
     ]
    }
   ],
   "source": [
    "ADLIST=df_pyspark = spark.read.csv(r'C:\\Users\\User\\Desktop\\nachmann\\AD LIST\\Active Items.csv', header=True, inferSchema=True)\n",
    "ADLIST.show()"
   ]
  },
  {
   "cell_type": "code",
   "execution_count": 8,
   "id": "8c1615ef-9470-4db6-9f56-06d96b65e3b2",
   "metadata": {},
   "outputs": [
    {
     "name": "stdout",
     "output_type": "stream",
     "text": [
      "+------+-----------+----+------+--------------------+--------+--------------+------+--------------------+--------------+\n",
      "|   _c0|        _c1| _c2|   _c3|                 _c4|     _c5|           _c6|   _c7|                 _c8|           _c9|\n",
      "+------+-----------+----+------+--------------------+--------+--------------+------+--------------------+--------------+\n",
      "|  Make|      Model|Year|Vendor|         Vendor Code|Position|           MPN|   SKU|        Product Type|  Vendor Notes|\n",
      "|Yamaha| XC200 Riva|1987| ANTIG|ANTIGRAVITY BATTE...|    NULL|AG-ATX12-AH-RS|505045|Antigravity Batte...|ENGINE/CC: 200|\n",
      "|Yamaha| XC200 Riva|1988| ANTIG|ANTIGRAVITY BATTE...|    NULL|AG-ATX12-AH-RS|505045|Antigravity Batte...|ENGINE/CC: 200|\n",
      "|Yamaha| XC200 Riva|1989| ANTIG|ANTIGRAVITY BATTE...|    NULL|AG-ATX12-AH-RS|505045|Antigravity Batte...|ENGINE/CC: 200|\n",
      "|Yamaha| XC200 Riva|1990| ANTIG|ANTIGRAVITY BATTE...|    NULL|AG-ATX12-AH-RS|505045|Antigravity Batte...|ENGINE/CC: 200|\n",
      "|Yamaha| XC200 Riva|1991| ANTIG|ANTIGRAVITY BATTE...|    NULL|AG-ATX12-AH-RS|505045|Antigravity Batte...|ENGINE/CC: 200|\n",
      "|Yamaha|XC200Z Riva|1987| ANTIG|ANTIGRAVITY BATTE...|    NULL|AG-ATX12-AH-RS|505045|Antigravity Batte...|ENGINE/CC: 200|\n",
      "|Yamaha|XC200Z Riva|1988| ANTIG|ANTIGRAVITY BATTE...|    NULL|AG-ATX12-AH-RS|505045|Antigravity Batte...|ENGINE/CC: 200|\n",
      "|Yamaha|XC200Z Riva|1989| ANTIG|ANTIGRAVITY BATTE...|    NULL|AG-ATX12-AH-RS|505045|Antigravity Batte...|ENGINE/CC: 200|\n",
      "|Yamaha|XC200Z Riva|1990| ANTIG|ANTIGRAVITY BATTE...|    NULL|AG-ATX12-AH-RS|505045|Antigravity Batte...|ENGINE/CC: 200|\n",
      "|Yamaha|XC200Z Riva|1991| ANTIG|ANTIGRAVITY BATTE...|    NULL|AG-ATX12-AH-RS|505045|Antigravity Batte...|ENGINE/CC: 200|\n",
      "+------+-----------+----+------+--------------------+--------+--------------+------+--------------------+--------------+\n",
      "\n"
     ]
    }
   ],
   "source": [
    "import pyspark\n",
    "import pandas as pd\n",
    "df_pyspark = spark.read.csv(r'C:\\Users\\User\\Desktop\\nachmann\\TODAY -TASK\\Antigravity Batteries Fitment 2024\\MERGE\\AG-ATX12-AH-RSv99.csv')\n",
    "df_pyspark.show()"
   ]
  },
  {
   "cell_type": "code",
   "execution_count": 12,
   "id": "8bd74197-b174-48fa-baf0-86bd2d03b013",
   "metadata": {},
   "outputs": [
    {
     "name": "stdout",
     "output_type": "stream",
     "text": [
      "+------+-----------+----+------+--------------------+--------+--------------+------+--------------------+--------------+\n",
      "|  Make|      Model|Year|Vendor|         Vendor Code|Position|           MPN|   SKU|        Product Type|  Vendor Notes|\n",
      "+------+-----------+----+------+--------------------+--------+--------------+------+--------------------+--------------+\n",
      "|Yamaha| XC200 Riva|1987| ANTIG|ANTIGRAVITY BATTE...|    NULL|AG-ATX12-AH-RS|505045|Antigravity Batte...|ENGINE/CC: 200|\n",
      "|Yamaha| XC200 Riva|1988| ANTIG|ANTIGRAVITY BATTE...|    NULL|AG-ATX12-AH-RS|505045|Antigravity Batte...|ENGINE/CC: 200|\n",
      "|Yamaha| XC200 Riva|1989| ANTIG|ANTIGRAVITY BATTE...|    NULL|AG-ATX12-AH-RS|505045|Antigravity Batte...|ENGINE/CC: 200|\n",
      "|Yamaha| XC200 Riva|1990| ANTIG|ANTIGRAVITY BATTE...|    NULL|AG-ATX12-AH-RS|505045|Antigravity Batte...|ENGINE/CC: 200|\n",
      "|Yamaha| XC200 Riva|1991| ANTIG|ANTIGRAVITY BATTE...|    NULL|AG-ATX12-AH-RS|505045|Antigravity Batte...|ENGINE/CC: 200|\n",
      "|Yamaha|XC200Z Riva|1987| ANTIG|ANTIGRAVITY BATTE...|    NULL|AG-ATX12-AH-RS|505045|Antigravity Batte...|ENGINE/CC: 200|\n",
      "|Yamaha|XC200Z Riva|1988| ANTIG|ANTIGRAVITY BATTE...|    NULL|AG-ATX12-AH-RS|505045|Antigravity Batte...|ENGINE/CC: 200|\n",
      "|Yamaha|XC200Z Riva|1989| ANTIG|ANTIGRAVITY BATTE...|    NULL|AG-ATX12-AH-RS|505045|Antigravity Batte...|ENGINE/CC: 200|\n",
      "|Yamaha|XC200Z Riva|1990| ANTIG|ANTIGRAVITY BATTE...|    NULL|AG-ATX12-AH-RS|505045|Antigravity Batte...|ENGINE/CC: 200|\n",
      "|Yamaha|XC200Z Riva|1991| ANTIG|ANTIGRAVITY BATTE...|    NULL|AG-ATX12-AH-RS|505045|Antigravity Batte...|ENGINE/CC: 200|\n",
      "+------+-----------+----+------+--------------------+--------+--------------+------+--------------------+--------------+\n",
      "\n"
     ]
    }
   ],
   "source": [
    "df_pyspark = spark.read.csv(r'C:\\Users\\User\\Desktop\\nachmann\\TODAY -TASK\\Antigravity Batteries Fitment 2024\\MERGE\\AG-ATX12-AH-RSv99.csv', header=True, inferSchema=True)\n",
    "data2 = df_pyspark = spark.read.csv(r'C:\\Users\\User\\Desktop\\nachmann\\TODAY -TASK\\Antigravity Batteries Fitment 2024\\MERGE\\AG-ATX12-AH-RSv99.csv', header=True, inferSchema=True)\n",
    "data2.show(10)"
   ]
  },
  {
   "cell_type": "code",
   "execution_count": 21,
   "id": "0be82fcb-18cb-46dc-83d7-6054456db0ea",
   "metadata": {},
   "outputs": [
    {
     "name": "stdout",
     "output_type": "stream",
     "text": [
      "root\n",
      " |-- Type: string (nullable = true)\n",
      " |-- Make: string (nullable = true)\n",
      " |-- Model: string (nullable = true)\n",
      " |-- Year: integer (nullable = true)\n",
      " |-- Unique: string (nullable = true)\n",
      "\n"
     ]
    }
   ],
   "source": [
    "# Load ARI DataFrame\n",
    "ARI = df_pyspark=spark.read.csv(r'C:\\Users\\User\\Desktop\\nachmann\\Merged Template 1\\merged-files.csv', header=True, inferSchema=True)\n",
    "#ARI.show()\n",
    "# Show the schema to verify column names\n",
    "ARI.printSchema()"
   ]
  },
  {
   "cell_type": "code",
   "execution_count": 22,
   "id": "cc7ba33e-b0d4-4ff0-8ffd-2948ae0de1ab",
   "metadata": {},
   "outputs": [
    {
     "name": "stdout",
     "output_type": "stream",
     "text": [
      "root\n",
      " |-- Segment: string (nullable = true)\n",
      " |-- Make: string (nullable = true)\n",
      " |-- Model: string (nullable = true)\n",
      " |-- Year: integer (nullable = true)\n",
      " |-- Unique: string (nullable = true)\n",
      "\n"
     ]
    }
   ],
   "source": [
    "from pyspark.sql import SparkSession\n",
    "\n",
    "# Initialize SparkSession\n",
    "spark = SparkSession.builder \\\n",
    "    .appName(\"DataMatching\") \\\n",
    "    .getOrCreate()\n",
    "\n",
    "# Load your DataFrames\n",
    "df_pyspark = spark.read.csv(r'C:\\Users\\User\\Desktop\\nachmann\\TODAY -TASK\\Antigravity Batteries Fitment 2024\\MERGE\\AG-ATX12-AH-RSv99.csv', header=True, inferSchema=True)\n",
    "data2 = spark.read.csv(r'C:\\Users\\User\\Desktop\\nachmann\\TODAY -TASK\\Antigravity Batteries Fitment 2024\\MERGE\\AG-ATX12-AH-RSv99.csv', header=True, inferSchema=True)\n",
    "\n",
    "# Load ARI DataFrame\n",
    "ARI = df_pyspark=spark.read.csv(r'C:\\Users\\User\\Desktop\\nachmann\\Merged Template 1\\merged-files.csv', header=True, inferSchema=True)\n",
    "# Rename the column 'Type' to 'Segment'\n",
    "ARI = ARI.withColumnRenamed('Type', 'Segment')\n",
    "# Show the schema to verify column names\n",
    "ARI.printSchema()"
   ]
  },
  {
   "cell_type": "code",
   "execution_count": 24,
   "id": "c400703f-996b-4941-b0e9-76b523c53cfe",
   "metadata": {},
   "outputs": [
    {
     "name": "stdout",
     "output_type": "stream",
     "text": [
      "+--------------+------------------+------------+----+--------------------+\n",
      "|       Segment|              Make|       Model|Year|              Unique|\n",
      "+--------------+------------------+------------+----+--------------------+\n",
      "|American VTwin|American IronHorse|     Bandera|2008|American IronHors...|\n",
      "|American VTwin|American IronHorse|     Bandera|2009|American IronHors...|\n",
      "|American VTwin|American IronHorse|      Bandit|2000|American IronHors...|\n",
      "|American VTwin|American IronHorse|     Classic|2000|American IronHors...|\n",
      "|American VTwin|American IronHorse|     Classic|2001|American IronHors...|\n",
      "|American VTwin|American IronHorse|     Classic|2002|American IronHors...|\n",
      "|American VTwin|American IronHorse|Classic Chop|2008|American IronHors...|\n",
      "|American VTwin|American IronHorse|       Judge|2009|American IronHors...|\n",
      "|American VTwin|American IronHorse|      Legend|2001|American IronHors...|\n",
      "|American VTwin|American IronHorse|      Legend|2002|American IronHors...|\n",
      "+--------------+------------------+------------+----+--------------------+\n",
      "only showing top 10 rows\n",
      "\n",
      "+------+-----------+----+------+--------------------+--------+--------------+------+--------------------+--------------+\n",
      "|  Make|      Model|Year|Vendor|         Vendor Code|Position|           MPN|   SKU|        Product Type|  Vendor Notes|\n",
      "+------+-----------+----+------+--------------------+--------+--------------+------+--------------------+--------------+\n",
      "|Yamaha| XC200 Riva|1987| ANTIG|ANTIGRAVITY BATTE...|    NULL|AG-ATX12-AH-RS|505045|Antigravity Batte...|ENGINE/CC: 200|\n",
      "|Yamaha| XC200 Riva|1988| ANTIG|ANTIGRAVITY BATTE...|    NULL|AG-ATX12-AH-RS|505045|Antigravity Batte...|ENGINE/CC: 200|\n",
      "|Yamaha| XC200 Riva|1989| ANTIG|ANTIGRAVITY BATTE...|    NULL|AG-ATX12-AH-RS|505045|Antigravity Batte...|ENGINE/CC: 200|\n",
      "|Yamaha| XC200 Riva|1990| ANTIG|ANTIGRAVITY BATTE...|    NULL|AG-ATX12-AH-RS|505045|Antigravity Batte...|ENGINE/CC: 200|\n",
      "|Yamaha| XC200 Riva|1991| ANTIG|ANTIGRAVITY BATTE...|    NULL|AG-ATX12-AH-RS|505045|Antigravity Batte...|ENGINE/CC: 200|\n",
      "|Yamaha|XC200Z Riva|1987| ANTIG|ANTIGRAVITY BATTE...|    NULL|AG-ATX12-AH-RS|505045|Antigravity Batte...|ENGINE/CC: 200|\n",
      "|Yamaha|XC200Z Riva|1988| ANTIG|ANTIGRAVITY BATTE...|    NULL|AG-ATX12-AH-RS|505045|Antigravity Batte...|ENGINE/CC: 200|\n",
      "|Yamaha|XC200Z Riva|1989| ANTIG|ANTIGRAVITY BATTE...|    NULL|AG-ATX12-AH-RS|505045|Antigravity Batte...|ENGINE/CC: 200|\n",
      "|Yamaha|XC200Z Riva|1990| ANTIG|ANTIGRAVITY BATTE...|    NULL|AG-ATX12-AH-RS|505045|Antigravity Batte...|ENGINE/CC: 200|\n",
      "|Yamaha|XC200Z Riva|1991| ANTIG|ANTIGRAVITY BATTE...|    NULL|AG-ATX12-AH-RS|505045|Antigravity Batte...|ENGINE/CC: 200|\n",
      "+------+-----------+----+------+--------------------+--------+--------------+------+--------------------+--------------+\n",
      "\n"
     ]
    }
   ],
   "source": [
    "ARI.show(10)\n",
    "data2.show(10)"
   ]
  },
  {
   "cell_type": "code",
   "execution_count": 27,
   "id": "e599d173-1749-49e1-9c64-4e4c60ad92f8",
   "metadata": {},
   "outputs": [
    {
     "name": "stdout",
     "output_type": "stream",
     "text": [
      "root\n",
      " |-- Segment: string (nullable = true)\n",
      " |-- Make: string (nullable = true)\n",
      " |-- Model: string (nullable = true)\n",
      " |-- Year: integer (nullable = true)\n",
      " |-- Unique: string (nullable = true)\n",
      "\n",
      "+--------------+------------------+------------+----+--------------------+\n",
      "|       Segment|              Make|       Model|Year|              Unique|\n",
      "+--------------+------------------+------------+----+--------------------+\n",
      "|American VTwin|American IronHorse|     Bandera|2008|American IronHors...|\n",
      "|American VTwin|American IronHorse|     Bandera|2009|American IronHors...|\n",
      "|American VTwin|American IronHorse|      Bandit|2000|American IronHors...|\n",
      "|American VTwin|American IronHorse|     Classic|2000|American IronHors...|\n",
      "|American VTwin|American IronHorse|     Classic|2001|American IronHors...|\n",
      "|American VTwin|American IronHorse|     Classic|2002|American IronHors...|\n",
      "|American VTwin|American IronHorse|Classic Chop|2008|American IronHors...|\n",
      "|American VTwin|American IronHorse|       Judge|2009|American IronHors...|\n",
      "|American VTwin|American IronHorse|      Legend|2001|American IronHors...|\n",
      "|American VTwin|American IronHorse|      Legend|2002|American IronHors...|\n",
      "+--------------+------------------+------------+----+--------------------+\n",
      "only showing top 10 rows\n",
      "\n",
      "+------+-----------+----+------+--------------------+--------+--------------+------+--------------------+--------------+\n",
      "|  Make|      Model|Year|Vendor|         Vendor Code|Position|           MPN|   SKU|        Product Type|  Vendor Notes|\n",
      "+------+-----------+----+------+--------------------+--------+--------------+------+--------------------+--------------+\n",
      "|Yamaha| XC200 Riva|1987| ANTIG|ANTIGRAVITY BATTE...|    NULL|AG-ATX12-AH-RS|505045|Antigravity Batte...|ENGINE/CC: 200|\n",
      "|Yamaha| XC200 Riva|1988| ANTIG|ANTIGRAVITY BATTE...|    NULL|AG-ATX12-AH-RS|505045|Antigravity Batte...|ENGINE/CC: 200|\n",
      "|Yamaha| XC200 Riva|1989| ANTIG|ANTIGRAVITY BATTE...|    NULL|AG-ATX12-AH-RS|505045|Antigravity Batte...|ENGINE/CC: 200|\n",
      "|Yamaha| XC200 Riva|1990| ANTIG|ANTIGRAVITY BATTE...|    NULL|AG-ATX12-AH-RS|505045|Antigravity Batte...|ENGINE/CC: 200|\n",
      "|Yamaha| XC200 Riva|1991| ANTIG|ANTIGRAVITY BATTE...|    NULL|AG-ATX12-AH-RS|505045|Antigravity Batte...|ENGINE/CC: 200|\n",
      "|Yamaha|XC200Z Riva|1987| ANTIG|ANTIGRAVITY BATTE...|    NULL|AG-ATX12-AH-RS|505045|Antigravity Batte...|ENGINE/CC: 200|\n",
      "|Yamaha|XC200Z Riva|1988| ANTIG|ANTIGRAVITY BATTE...|    NULL|AG-ATX12-AH-RS|505045|Antigravity Batte...|ENGINE/CC: 200|\n",
      "|Yamaha|XC200Z Riva|1989| ANTIG|ANTIGRAVITY BATTE...|    NULL|AG-ATX12-AH-RS|505045|Antigravity Batte...|ENGINE/CC: 200|\n",
      "|Yamaha|XC200Z Riva|1990| ANTIG|ANTIGRAVITY BATTE...|    NULL|AG-ATX12-AH-RS|505045|Antigravity Batte...|ENGINE/CC: 200|\n",
      "|Yamaha|XC200Z Riva|1991| ANTIG|ANTIGRAVITY BATTE...|    NULL|AG-ATX12-AH-RS|505045|Antigravity Batte...|ENGINE/CC: 200|\n",
      "+------+-----------+----+------+--------------------+--------+--------------+------+--------------------+--------------+\n",
      "\n",
      "+------+----------+----+------+--------------------+--------+--------------+------+--------------------+--------------+--------+\n",
      "|  Make|     Model|Year|Vendor|         Vendor Code|Position|           MPN|   SKU|        Product Type|  Vendor Notes| Segment|\n",
      "+------+----------+----+------+--------------------+--------+--------------+------+--------------------+--------------+--------+\n",
      "|Yamaha|XC200 Riva|1987| ANTIG|ANTIGRAVITY BATTE...|    NULL|AG-ATX12-AH-RS|505045|Antigravity Batte...|ENGINE/CC: 200|Scooters|\n",
      "|Yamaha|XC200 Riva|1987| ANTIG|ANTIGRAVITY BATTE...|    NULL|AG-ATX12-AH-RS|505045|Antigravity Batte...|ENGINE/CC: 200|Scooters|\n",
      "|Yamaha|XC200 Riva|1987| ANTIG|ANTIGRAVITY BATTE...|    NULL|AG-ATX12-AH-RS|505045|Antigravity Batte...|ENGINE/CC: 200|Scooters|\n",
      "|Yamaha|XC200 Riva|1987| ANTIG|ANTIGRAVITY BATTE...|    NULL|AG-ATX12-AH-RS|505045|Antigravity Batte...|ENGINE/CC: 200|Scooters|\n",
      "|Yamaha|XC200 Riva|1987| ANTIG|ANTIGRAVITY BATTE...|    NULL|AG-ATX12-AH-RS|505045|Antigravity Batte...|ENGINE/CC: 200|Scooters|\n",
      "|Yamaha|XC200 Riva|1988| ANTIG|ANTIGRAVITY BATTE...|    NULL|AG-ATX12-AH-RS|505045|Antigravity Batte...|ENGINE/CC: 200|Scooters|\n",
      "|Yamaha|XC200 Riva|1988| ANTIG|ANTIGRAVITY BATTE...|    NULL|AG-ATX12-AH-RS|505045|Antigravity Batte...|ENGINE/CC: 200|Scooters|\n",
      "|Yamaha|XC200 Riva|1988| ANTIG|ANTIGRAVITY BATTE...|    NULL|AG-ATX12-AH-RS|505045|Antigravity Batte...|ENGINE/CC: 200|Scooters|\n",
      "|Yamaha|XC200 Riva|1988| ANTIG|ANTIGRAVITY BATTE...|    NULL|AG-ATX12-AH-RS|505045|Antigravity Batte...|ENGINE/CC: 200|Scooters|\n",
      "|Yamaha|XC200 Riva|1988| ANTIG|ANTIGRAVITY BATTE...|    NULL|AG-ATX12-AH-RS|505045|Antigravity Batte...|ENGINE/CC: 200|Scooters|\n",
      "+------+----------+----+------+--------------------+--------+--------------+------+--------------------+--------------+--------+\n",
      "only showing top 10 rows\n",
      "\n"
     ]
    },
    {
     "ename": "Py4JJavaError",
     "evalue": "An error occurred while calling o484.csv.\n: java.lang.RuntimeException: java.io.FileNotFoundException: java.io.FileNotFoundException: HADOOP_HOME and hadoop.home.dir are unset. -see https://wiki.apache.org/hadoop/WindowsProblems\r\n\tat org.apache.hadoop.util.Shell.getWinUtilsPath(Shell.java:735)\r\n\tat org.apache.hadoop.util.Shell.getSetPermissionCommand(Shell.java:270)\r\n\tat org.apache.hadoop.util.Shell.getSetPermissionCommand(Shell.java:286)\r\n\tat org.apache.hadoop.fs.RawLocalFileSystem.setPermission(RawLocalFileSystem.java:978)\r\n\tat org.apache.hadoop.fs.RawLocalFileSystem.mkOneDirWithMode(RawLocalFileSystem.java:660)\r\n\tat org.apache.hadoop.fs.RawLocalFileSystem.mkdirsWithOptionalPermission(RawLocalFileSystem.java:700)\r\n\tat org.apache.hadoop.fs.RawLocalFileSystem.mkdirs(RawLocalFileSystem.java:672)\r\n\tat org.apache.hadoop.fs.RawLocalFileSystem.mkdirsWithOptionalPermission(RawLocalFileSystem.java:699)\r\n\tat org.apache.hadoop.fs.RawLocalFileSystem.mkdirs(RawLocalFileSystem.java:672)\r\n\tat org.apache.hadoop.fs.RawLocalFileSystem.mkdirsWithOptionalPermission(RawLocalFileSystem.java:699)\r\n\tat org.apache.hadoop.fs.RawLocalFileSystem.mkdirs(RawLocalFileSystem.java:672)\r\n\tat org.apache.hadoop.fs.ChecksumFileSystem.mkdirs(ChecksumFileSystem.java:788)\r\n\tat org.apache.hadoop.mapreduce.lib.output.FileOutputCommitter.setupJob(FileOutputCommitter.java:356)\r\n\tat org.apache.spark.internal.io.HadoopMapReduceCommitProtocol.setupJob(HadoopMapReduceCommitProtocol.scala:188)\r\n\tat org.apache.spark.sql.execution.datasources.FileFormatWriter$.writeAndCommit(FileFormatWriter.scala:269)\r\n\tat org.apache.spark.sql.execution.datasources.FileFormatWriter$.executeWrite(FileFormatWriter.scala:304)\r\n\tat org.apache.spark.sql.execution.datasources.FileFormatWriter$.write(FileFormatWriter.scala:190)\r\n\tat org.apache.spark.sql.execution.datasources.InsertIntoHadoopFsRelationCommand.run(InsertIntoHadoopFsRelationCommand.scala:190)\r\n\tat org.apache.spark.sql.execution.command.DataWritingCommandExec.sideEffectResult$lzycompute(commands.scala:113)\r\n\tat org.apache.spark.sql.execution.command.DataWritingCommandExec.sideEffectResult(commands.scala:111)\r\n\tat org.apache.spark.sql.execution.command.DataWritingCommandExec.executeCollect(commands.scala:125)\r\n\tat org.apache.spark.sql.execution.adaptive.AdaptiveSparkPlanExec.$anonfun$executeCollect$1(AdaptiveSparkPlanExec.scala:390)\r\n\tat org.apache.spark.sql.execution.adaptive.AdaptiveSparkPlanExec.withFinalPlanUpdate(AdaptiveSparkPlanExec.scala:418)\r\n\tat org.apache.spark.sql.execution.adaptive.AdaptiveSparkPlanExec.executeCollect(AdaptiveSparkPlanExec.scala:390)\r\n\tat org.apache.spark.sql.execution.QueryExecution$$anonfun$eagerlyExecuteCommands$1.$anonfun$applyOrElse$1(QueryExecution.scala:107)\r\n\tat org.apache.spark.sql.execution.SQLExecution$.$anonfun$withNewExecutionId$6(SQLExecution.scala:125)\r\n\tat org.apache.spark.sql.execution.SQLExecution$.withSQLConfPropagated(SQLExecution.scala:201)\r\n\tat org.apache.spark.sql.execution.SQLExecution$.$anonfun$withNewExecutionId$1(SQLExecution.scala:108)\r\n\tat org.apache.spark.sql.SparkSession.withActive(SparkSession.scala:900)\r\n\tat org.apache.spark.sql.execution.SQLExecution$.withNewExecutionId(SQLExecution.scala:66)\r\n\tat org.apache.spark.sql.execution.QueryExecution$$anonfun$eagerlyExecuteCommands$1.applyOrElse(QueryExecution.scala:107)\r\n\tat org.apache.spark.sql.execution.QueryExecution$$anonfun$eagerlyExecuteCommands$1.applyOrElse(QueryExecution.scala:98)\r\n\tat org.apache.spark.sql.catalyst.trees.TreeNode.$anonfun$transformDownWithPruning$1(TreeNode.scala:461)\r\n\tat org.apache.spark.sql.catalyst.trees.CurrentOrigin$.withOrigin(origin.scala:76)\r\n\tat org.apache.spark.sql.catalyst.trees.TreeNode.transformDownWithPruning(TreeNode.scala:461)\r\n\tat org.apache.spark.sql.catalyst.plans.logical.LogicalPlan.org$apache$spark$sql$catalyst$plans$logical$AnalysisHelper$$super$transformDownWithPruning(LogicalPlan.scala:32)\r\n\tat org.apache.spark.sql.catalyst.plans.logical.AnalysisHelper.transformDownWithPruning(AnalysisHelper.scala:267)\r\n\tat org.apache.spark.sql.catalyst.plans.logical.AnalysisHelper.transformDownWithPruning$(AnalysisHelper.scala:263)\r\n\tat org.apache.spark.sql.catalyst.plans.logical.LogicalPlan.transformDownWithPruning(LogicalPlan.scala:32)\r\n\tat org.apache.spark.sql.catalyst.plans.logical.LogicalPlan.transformDownWithPruning(LogicalPlan.scala:32)\r\n\tat org.apache.spark.sql.catalyst.trees.TreeNode.transformDown(TreeNode.scala:437)\r\n\tat org.apache.spark.sql.execution.QueryExecution.eagerlyExecuteCommands(QueryExecution.scala:98)\r\n\tat org.apache.spark.sql.execution.QueryExecution.commandExecuted$lzycompute(QueryExecution.scala:85)\r\n\tat org.apache.spark.sql.execution.QueryExecution.commandExecuted(QueryExecution.scala:83)\r\n\tat org.apache.spark.sql.execution.QueryExecution.assertCommandExecuted(QueryExecution.scala:142)\r\n\tat org.apache.spark.sql.DataFrameWriter.runCommand(DataFrameWriter.scala:859)\r\n\tat org.apache.spark.sql.DataFrameWriter.saveToV1Source(DataFrameWriter.scala:388)\r\n\tat org.apache.spark.sql.DataFrameWriter.saveInternal(DataFrameWriter.scala:361)\r\n\tat org.apache.spark.sql.DataFrameWriter.save(DataFrameWriter.scala:240)\r\n\tat org.apache.spark.sql.DataFrameWriter.csv(DataFrameWriter.scala:850)\r\n\tat java.base/jdk.internal.reflect.NativeMethodAccessorImpl.invoke0(Native Method)\r\n\tat java.base/jdk.internal.reflect.NativeMethodAccessorImpl.invoke(NativeMethodAccessorImpl.java:75)\r\n\tat java.base/jdk.internal.reflect.DelegatingMethodAccessorImpl.invoke(DelegatingMethodAccessorImpl.java:52)\r\n\tat java.base/java.lang.reflect.Method.invoke(Method.java:580)\r\n\tat py4j.reflection.MethodInvoker.invoke(MethodInvoker.java:244)\r\n\tat py4j.reflection.ReflectionEngine.invoke(ReflectionEngine.java:374)\r\n\tat py4j.Gateway.invoke(Gateway.java:282)\r\n\tat py4j.commands.AbstractCommand.invokeMethod(AbstractCommand.java:132)\r\n\tat py4j.commands.CallCommand.execute(CallCommand.java:79)\r\n\tat py4j.ClientServerConnection.waitForCommands(ClientServerConnection.java:182)\r\n\tat py4j.ClientServerConnection.run(ClientServerConnection.java:106)\r\n\tat java.base/java.lang.Thread.run(Thread.java:1583)\r\nCaused by: java.io.FileNotFoundException: java.io.FileNotFoundException: HADOOP_HOME and hadoop.home.dir are unset. -see https://wiki.apache.org/hadoop/WindowsProblems\r\n\tat org.apache.hadoop.util.Shell.fileNotFoundException(Shell.java:547)\r\n\tat org.apache.hadoop.util.Shell.getHadoopHomeDir(Shell.java:568)\r\n\tat org.apache.hadoop.util.Shell.getQualifiedBin(Shell.java:591)\r\n\tat org.apache.hadoop.util.Shell.<clinit>(Shell.java:688)\r\n\tat org.apache.hadoop.util.StringUtils.<clinit>(StringUtils.java:79)\r\n\tat org.apache.hadoop.conf.Configuration.getTimeDurationHelper(Configuration.java:1907)\r\n\tat org.apache.hadoop.conf.Configuration.getTimeDuration(Configuration.java:1867)\r\n\tat org.apache.hadoop.conf.Configuration.getTimeDuration(Configuration.java:1840)\r\n\tat org.apache.hadoop.util.ShutdownHookManager.getShutdownTimeout(ShutdownHookManager.java:183)\r\n\tat org.apache.hadoop.util.ShutdownHookManager$HookEntry.<init>(ShutdownHookManager.java:207)\r\n\tat org.apache.hadoop.util.ShutdownHookManager.addShutdownHook(ShutdownHookManager.java:304)\r\n\tat org.apache.spark.util.SparkShutdownHookManager.install(ShutdownHookManager.scala:181)\r\n\tat org.apache.spark.util.ShutdownHookManager$.shutdownHooks$lzycompute(ShutdownHookManager.scala:50)\r\n\tat org.apache.spark.util.ShutdownHookManager$.shutdownHooks(ShutdownHookManager.scala:48)\r\n\tat org.apache.spark.util.ShutdownHookManager$.addShutdownHook(ShutdownHookManager.scala:153)\r\n\tat org.apache.spark.util.ShutdownHookManager$.<init>(ShutdownHookManager.scala:58)\r\n\tat org.apache.spark.util.ShutdownHookManager$.<clinit>(ShutdownHookManager.scala)\r\n\tat org.apache.spark.util.Utils$.createTempDir(Utils.scala:242)\r\n\tat org.apache.spark.util.SparkFileUtils.createTempDir(SparkFileUtils.scala:103)\r\n\tat org.apache.spark.util.SparkFileUtils.createTempDir$(SparkFileUtils.scala:102)\r\n\tat org.apache.spark.util.Utils$.createTempDir(Utils.scala:94)\r\n\tat org.apache.spark.deploy.SparkSubmit.prepareSubmitEnvironment(SparkSubmit.scala:372)\r\n\tat org.apache.spark.deploy.SparkSubmit.org$apache$spark$deploy$SparkSubmit$$runMain(SparkSubmit.scala:964)\r\n\tat org.apache.spark.deploy.SparkSubmit.doRunMain$1(SparkSubmit.scala:194)\r\n\tat org.apache.spark.deploy.SparkSubmit.submit(SparkSubmit.scala:217)\r\n\tat org.apache.spark.deploy.SparkSubmit.doSubmit(SparkSubmit.scala:91)\r\n\tat org.apache.spark.deploy.SparkSubmit$$anon$2.doSubmit(SparkSubmit.scala:1120)\r\n\tat org.apache.spark.deploy.SparkSubmit$.main(SparkSubmit.scala:1129)\r\n\tat org.apache.spark.deploy.SparkSubmit.main(SparkSubmit.scala)\r\nCaused by: java.io.FileNotFoundException: HADOOP_HOME and hadoop.home.dir are unset.\r\n\tat org.apache.hadoop.util.Shell.checkHadoopHomeInner(Shell.java:467)\r\n\tat org.apache.hadoop.util.Shell.checkHadoopHome(Shell.java:438)\r\n\tat org.apache.hadoop.util.Shell.<clinit>(Shell.java:515)\r\n\t... 25 more\r\n",
     "output_type": "error",
     "traceback": [
      "\u001b[1;31m---------------------------------------------------------------------------\u001b[0m",
      "\u001b[1;31mPy4JJavaError\u001b[0m                             Traceback (most recent call last)",
      "Cell \u001b[1;32mIn[27], line 44\u001b[0m\n\u001b[0;32m     41\u001b[0m result_df\u001b[38;5;241m.\u001b[39mshow(\u001b[38;5;241m10\u001b[39m)\n\u001b[0;32m     43\u001b[0m \u001b[38;5;66;03m# Optionally, write the resulting DataFrame to a CSV file\u001b[39;00m\n\u001b[1;32m---> 44\u001b[0m \u001b[43mresult_df\u001b[49m\u001b[38;5;241;43m.\u001b[39;49m\u001b[43mwrite\u001b[49m\u001b[38;5;241;43m.\u001b[39;49m\u001b[43mcsv\u001b[49m\u001b[43m(\u001b[49m\u001b[38;5;124;43mr\u001b[39;49m\u001b[38;5;124;43m'\u001b[39;49m\u001b[38;5;124;43mC:\u001b[39;49m\u001b[38;5;124;43m\\\u001b[39;49m\u001b[38;5;124;43mUsers\u001b[39;49m\u001b[38;5;124;43m\\\u001b[39;49m\u001b[38;5;124;43mUser\u001b[39;49m\u001b[38;5;124;43m\\\u001b[39;49m\u001b[38;5;124;43mDesktop\u001b[39;49m\u001b[38;5;124;43m\\\u001b[39;49m\u001b[38;5;124;43mnachmann\u001b[39;49m\u001b[38;5;124;43m\\\u001b[39;49m\u001b[38;5;124;43mTODAY -TASK\u001b[39;49m\u001b[38;5;124;43m\\\u001b[39;49m\u001b[38;5;124;43mAntigravity Batteries Fitment 2024\u001b[39;49m\u001b[38;5;124;43m\\\u001b[39;49m\u001b[38;5;124;43mMERGE\u001b[39;49m\u001b[38;5;124;43m\\\u001b[39;49m\u001b[38;5;124;43mmatched_results.csv\u001b[39;49m\u001b[38;5;124;43m'\u001b[39;49m\u001b[43m,\u001b[49m\u001b[43m \u001b[49m\u001b[43mheader\u001b[49m\u001b[38;5;241;43m=\u001b[39;49m\u001b[38;5;28;43;01mTrue\u001b[39;49;00m\u001b[43m)\u001b[49m\n",
      "File \u001b[1;32m~\\.conda\\envs\\env_pyspark\\Lib\\site-packages\\pyspark\\sql\\readwriter.py:1864\u001b[0m, in \u001b[0;36mDataFrameWriter.csv\u001b[1;34m(self, path, mode, compression, sep, quote, escape, header, nullValue, escapeQuotes, quoteAll, dateFormat, timestampFormat, ignoreLeadingWhiteSpace, ignoreTrailingWhiteSpace, charToEscapeQuoteEscaping, encoding, emptyValue, lineSep)\u001b[0m\n\u001b[0;32m   1845\u001b[0m \u001b[38;5;28mself\u001b[39m\u001b[38;5;241m.\u001b[39mmode(mode)\n\u001b[0;32m   1846\u001b[0m \u001b[38;5;28mself\u001b[39m\u001b[38;5;241m.\u001b[39m_set_opts(\n\u001b[0;32m   1847\u001b[0m     compression\u001b[38;5;241m=\u001b[39mcompression,\n\u001b[0;32m   1848\u001b[0m     sep\u001b[38;5;241m=\u001b[39msep,\n\u001b[1;32m   (...)\u001b[0m\n\u001b[0;32m   1862\u001b[0m     lineSep\u001b[38;5;241m=\u001b[39mlineSep,\n\u001b[0;32m   1863\u001b[0m )\n\u001b[1;32m-> 1864\u001b[0m \u001b[38;5;28;43mself\u001b[39;49m\u001b[38;5;241;43m.\u001b[39;49m\u001b[43m_jwrite\u001b[49m\u001b[38;5;241;43m.\u001b[39;49m\u001b[43mcsv\u001b[49m\u001b[43m(\u001b[49m\u001b[43mpath\u001b[49m\u001b[43m)\u001b[49m\n",
      "File \u001b[1;32m~\\.conda\\envs\\env_pyspark\\Lib\\site-packages\\py4j\\java_gateway.py:1322\u001b[0m, in \u001b[0;36mJavaMember.__call__\u001b[1;34m(self, *args)\u001b[0m\n\u001b[0;32m   1316\u001b[0m command \u001b[38;5;241m=\u001b[39m proto\u001b[38;5;241m.\u001b[39mCALL_COMMAND_NAME \u001b[38;5;241m+\u001b[39m\\\n\u001b[0;32m   1317\u001b[0m     \u001b[38;5;28mself\u001b[39m\u001b[38;5;241m.\u001b[39mcommand_header \u001b[38;5;241m+\u001b[39m\\\n\u001b[0;32m   1318\u001b[0m     args_command \u001b[38;5;241m+\u001b[39m\\\n\u001b[0;32m   1319\u001b[0m     proto\u001b[38;5;241m.\u001b[39mEND_COMMAND_PART\n\u001b[0;32m   1321\u001b[0m answer \u001b[38;5;241m=\u001b[39m \u001b[38;5;28mself\u001b[39m\u001b[38;5;241m.\u001b[39mgateway_client\u001b[38;5;241m.\u001b[39msend_command(command)\n\u001b[1;32m-> 1322\u001b[0m return_value \u001b[38;5;241m=\u001b[39m \u001b[43mget_return_value\u001b[49m\u001b[43m(\u001b[49m\n\u001b[0;32m   1323\u001b[0m \u001b[43m    \u001b[49m\u001b[43manswer\u001b[49m\u001b[43m,\u001b[49m\u001b[43m \u001b[49m\u001b[38;5;28;43mself\u001b[39;49m\u001b[38;5;241;43m.\u001b[39;49m\u001b[43mgateway_client\u001b[49m\u001b[43m,\u001b[49m\u001b[43m \u001b[49m\u001b[38;5;28;43mself\u001b[39;49m\u001b[38;5;241;43m.\u001b[39;49m\u001b[43mtarget_id\u001b[49m\u001b[43m,\u001b[49m\u001b[43m \u001b[49m\u001b[38;5;28;43mself\u001b[39;49m\u001b[38;5;241;43m.\u001b[39;49m\u001b[43mname\u001b[49m\u001b[43m)\u001b[49m\n\u001b[0;32m   1325\u001b[0m \u001b[38;5;28;01mfor\u001b[39;00m temp_arg \u001b[38;5;129;01min\u001b[39;00m temp_args:\n\u001b[0;32m   1326\u001b[0m     \u001b[38;5;28;01mif\u001b[39;00m \u001b[38;5;28mhasattr\u001b[39m(temp_arg, \u001b[38;5;124m\"\u001b[39m\u001b[38;5;124m_detach\u001b[39m\u001b[38;5;124m\"\u001b[39m):\n",
      "File \u001b[1;32m~\\.conda\\envs\\env_pyspark\\Lib\\site-packages\\pyspark\\errors\\exceptions\\captured.py:179\u001b[0m, in \u001b[0;36mcapture_sql_exception.<locals>.deco\u001b[1;34m(*a, **kw)\u001b[0m\n\u001b[0;32m    177\u001b[0m \u001b[38;5;28;01mdef\u001b[39;00m \u001b[38;5;21mdeco\u001b[39m(\u001b[38;5;241m*\u001b[39ma: Any, \u001b[38;5;241m*\u001b[39m\u001b[38;5;241m*\u001b[39mkw: Any) \u001b[38;5;241m-\u001b[39m\u001b[38;5;241m>\u001b[39m Any:\n\u001b[0;32m    178\u001b[0m     \u001b[38;5;28;01mtry\u001b[39;00m:\n\u001b[1;32m--> 179\u001b[0m         \u001b[38;5;28;01mreturn\u001b[39;00m \u001b[43mf\u001b[49m\u001b[43m(\u001b[49m\u001b[38;5;241;43m*\u001b[39;49m\u001b[43ma\u001b[49m\u001b[43m,\u001b[49m\u001b[43m \u001b[49m\u001b[38;5;241;43m*\u001b[39;49m\u001b[38;5;241;43m*\u001b[39;49m\u001b[43mkw\u001b[49m\u001b[43m)\u001b[49m\n\u001b[0;32m    180\u001b[0m     \u001b[38;5;28;01mexcept\u001b[39;00m Py4JJavaError \u001b[38;5;28;01mas\u001b[39;00m e:\n\u001b[0;32m    181\u001b[0m         converted \u001b[38;5;241m=\u001b[39m convert_exception(e\u001b[38;5;241m.\u001b[39mjava_exception)\n",
      "File \u001b[1;32m~\\.conda\\envs\\env_pyspark\\Lib\\site-packages\\py4j\\protocol.py:326\u001b[0m, in \u001b[0;36mget_return_value\u001b[1;34m(answer, gateway_client, target_id, name)\u001b[0m\n\u001b[0;32m    324\u001b[0m value \u001b[38;5;241m=\u001b[39m OUTPUT_CONVERTER[\u001b[38;5;28mtype\u001b[39m](answer[\u001b[38;5;241m2\u001b[39m:], gateway_client)\n\u001b[0;32m    325\u001b[0m \u001b[38;5;28;01mif\u001b[39;00m answer[\u001b[38;5;241m1\u001b[39m] \u001b[38;5;241m==\u001b[39m REFERENCE_TYPE:\n\u001b[1;32m--> 326\u001b[0m     \u001b[38;5;28;01mraise\u001b[39;00m Py4JJavaError(\n\u001b[0;32m    327\u001b[0m         \u001b[38;5;124m\"\u001b[39m\u001b[38;5;124mAn error occurred while calling \u001b[39m\u001b[38;5;132;01m{0}\u001b[39;00m\u001b[38;5;132;01m{1}\u001b[39;00m\u001b[38;5;132;01m{2}\u001b[39;00m\u001b[38;5;124m.\u001b[39m\u001b[38;5;130;01m\\n\u001b[39;00m\u001b[38;5;124m\"\u001b[39m\u001b[38;5;241m.\u001b[39m\n\u001b[0;32m    328\u001b[0m         \u001b[38;5;28mformat\u001b[39m(target_id, \u001b[38;5;124m\"\u001b[39m\u001b[38;5;124m.\u001b[39m\u001b[38;5;124m\"\u001b[39m, name), value)\n\u001b[0;32m    329\u001b[0m \u001b[38;5;28;01melse\u001b[39;00m:\n\u001b[0;32m    330\u001b[0m     \u001b[38;5;28;01mraise\u001b[39;00m Py4JError(\n\u001b[0;32m    331\u001b[0m         \u001b[38;5;124m\"\u001b[39m\u001b[38;5;124mAn error occurred while calling \u001b[39m\u001b[38;5;132;01m{0}\u001b[39;00m\u001b[38;5;132;01m{1}\u001b[39;00m\u001b[38;5;132;01m{2}\u001b[39;00m\u001b[38;5;124m. Trace:\u001b[39m\u001b[38;5;130;01m\\n\u001b[39;00m\u001b[38;5;132;01m{3}\u001b[39;00m\u001b[38;5;130;01m\\n\u001b[39;00m\u001b[38;5;124m\"\u001b[39m\u001b[38;5;241m.\u001b[39m\n\u001b[0;32m    332\u001b[0m         \u001b[38;5;28mformat\u001b[39m(target_id, \u001b[38;5;124m\"\u001b[39m\u001b[38;5;124m.\u001b[39m\u001b[38;5;124m\"\u001b[39m, name, value))\n",
      "\u001b[1;31mPy4JJavaError\u001b[0m: An error occurred while calling o484.csv.\n: java.lang.RuntimeException: java.io.FileNotFoundException: java.io.FileNotFoundException: HADOOP_HOME and hadoop.home.dir are unset. -see https://wiki.apache.org/hadoop/WindowsProblems\r\n\tat org.apache.hadoop.util.Shell.getWinUtilsPath(Shell.java:735)\r\n\tat org.apache.hadoop.util.Shell.getSetPermissionCommand(Shell.java:270)\r\n\tat org.apache.hadoop.util.Shell.getSetPermissionCommand(Shell.java:286)\r\n\tat org.apache.hadoop.fs.RawLocalFileSystem.setPermission(RawLocalFileSystem.java:978)\r\n\tat org.apache.hadoop.fs.RawLocalFileSystem.mkOneDirWithMode(RawLocalFileSystem.java:660)\r\n\tat org.apache.hadoop.fs.RawLocalFileSystem.mkdirsWithOptionalPermission(RawLocalFileSystem.java:700)\r\n\tat org.apache.hadoop.fs.RawLocalFileSystem.mkdirs(RawLocalFileSystem.java:672)\r\n\tat org.apache.hadoop.fs.RawLocalFileSystem.mkdirsWithOptionalPermission(RawLocalFileSystem.java:699)\r\n\tat org.apache.hadoop.fs.RawLocalFileSystem.mkdirs(RawLocalFileSystem.java:672)\r\n\tat org.apache.hadoop.fs.RawLocalFileSystem.mkdirsWithOptionalPermission(RawLocalFileSystem.java:699)\r\n\tat org.apache.hadoop.fs.RawLocalFileSystem.mkdirs(RawLocalFileSystem.java:672)\r\n\tat org.apache.hadoop.fs.ChecksumFileSystem.mkdirs(ChecksumFileSystem.java:788)\r\n\tat org.apache.hadoop.mapreduce.lib.output.FileOutputCommitter.setupJob(FileOutputCommitter.java:356)\r\n\tat org.apache.spark.internal.io.HadoopMapReduceCommitProtocol.setupJob(HadoopMapReduceCommitProtocol.scala:188)\r\n\tat org.apache.spark.sql.execution.datasources.FileFormatWriter$.writeAndCommit(FileFormatWriter.scala:269)\r\n\tat org.apache.spark.sql.execution.datasources.FileFormatWriter$.executeWrite(FileFormatWriter.scala:304)\r\n\tat org.apache.spark.sql.execution.datasources.FileFormatWriter$.write(FileFormatWriter.scala:190)\r\n\tat org.apache.spark.sql.execution.datasources.InsertIntoHadoopFsRelationCommand.run(InsertIntoHadoopFsRelationCommand.scala:190)\r\n\tat org.apache.spark.sql.execution.command.DataWritingCommandExec.sideEffectResult$lzycompute(commands.scala:113)\r\n\tat org.apache.spark.sql.execution.command.DataWritingCommandExec.sideEffectResult(commands.scala:111)\r\n\tat org.apache.spark.sql.execution.command.DataWritingCommandExec.executeCollect(commands.scala:125)\r\n\tat org.apache.spark.sql.execution.adaptive.AdaptiveSparkPlanExec.$anonfun$executeCollect$1(AdaptiveSparkPlanExec.scala:390)\r\n\tat org.apache.spark.sql.execution.adaptive.AdaptiveSparkPlanExec.withFinalPlanUpdate(AdaptiveSparkPlanExec.scala:418)\r\n\tat org.apache.spark.sql.execution.adaptive.AdaptiveSparkPlanExec.executeCollect(AdaptiveSparkPlanExec.scala:390)\r\n\tat org.apache.spark.sql.execution.QueryExecution$$anonfun$eagerlyExecuteCommands$1.$anonfun$applyOrElse$1(QueryExecution.scala:107)\r\n\tat org.apache.spark.sql.execution.SQLExecution$.$anonfun$withNewExecutionId$6(SQLExecution.scala:125)\r\n\tat org.apache.spark.sql.execution.SQLExecution$.withSQLConfPropagated(SQLExecution.scala:201)\r\n\tat org.apache.spark.sql.execution.SQLExecution$.$anonfun$withNewExecutionId$1(SQLExecution.scala:108)\r\n\tat org.apache.spark.sql.SparkSession.withActive(SparkSession.scala:900)\r\n\tat org.apache.spark.sql.execution.SQLExecution$.withNewExecutionId(SQLExecution.scala:66)\r\n\tat org.apache.spark.sql.execution.QueryExecution$$anonfun$eagerlyExecuteCommands$1.applyOrElse(QueryExecution.scala:107)\r\n\tat org.apache.spark.sql.execution.QueryExecution$$anonfun$eagerlyExecuteCommands$1.applyOrElse(QueryExecution.scala:98)\r\n\tat org.apache.spark.sql.catalyst.trees.TreeNode.$anonfun$transformDownWithPruning$1(TreeNode.scala:461)\r\n\tat org.apache.spark.sql.catalyst.trees.CurrentOrigin$.withOrigin(origin.scala:76)\r\n\tat org.apache.spark.sql.catalyst.trees.TreeNode.transformDownWithPruning(TreeNode.scala:461)\r\n\tat org.apache.spark.sql.catalyst.plans.logical.LogicalPlan.org$apache$spark$sql$catalyst$plans$logical$AnalysisHelper$$super$transformDownWithPruning(LogicalPlan.scala:32)\r\n\tat org.apache.spark.sql.catalyst.plans.logical.AnalysisHelper.transformDownWithPruning(AnalysisHelper.scala:267)\r\n\tat org.apache.spark.sql.catalyst.plans.logical.AnalysisHelper.transformDownWithPruning$(AnalysisHelper.scala:263)\r\n\tat org.apache.spark.sql.catalyst.plans.logical.LogicalPlan.transformDownWithPruning(LogicalPlan.scala:32)\r\n\tat org.apache.spark.sql.catalyst.plans.logical.LogicalPlan.transformDownWithPruning(LogicalPlan.scala:32)\r\n\tat org.apache.spark.sql.catalyst.trees.TreeNode.transformDown(TreeNode.scala:437)\r\n\tat org.apache.spark.sql.execution.QueryExecution.eagerlyExecuteCommands(QueryExecution.scala:98)\r\n\tat org.apache.spark.sql.execution.QueryExecution.commandExecuted$lzycompute(QueryExecution.scala:85)\r\n\tat org.apache.spark.sql.execution.QueryExecution.commandExecuted(QueryExecution.scala:83)\r\n\tat org.apache.spark.sql.execution.QueryExecution.assertCommandExecuted(QueryExecution.scala:142)\r\n\tat org.apache.spark.sql.DataFrameWriter.runCommand(DataFrameWriter.scala:859)\r\n\tat org.apache.spark.sql.DataFrameWriter.saveToV1Source(DataFrameWriter.scala:388)\r\n\tat org.apache.spark.sql.DataFrameWriter.saveInternal(DataFrameWriter.scala:361)\r\n\tat org.apache.spark.sql.DataFrameWriter.save(DataFrameWriter.scala:240)\r\n\tat org.apache.spark.sql.DataFrameWriter.csv(DataFrameWriter.scala:850)\r\n\tat java.base/jdk.internal.reflect.NativeMethodAccessorImpl.invoke0(Native Method)\r\n\tat java.base/jdk.internal.reflect.NativeMethodAccessorImpl.invoke(NativeMethodAccessorImpl.java:75)\r\n\tat java.base/jdk.internal.reflect.DelegatingMethodAccessorImpl.invoke(DelegatingMethodAccessorImpl.java:52)\r\n\tat java.base/java.lang.reflect.Method.invoke(Method.java:580)\r\n\tat py4j.reflection.MethodInvoker.invoke(MethodInvoker.java:244)\r\n\tat py4j.reflection.ReflectionEngine.invoke(ReflectionEngine.java:374)\r\n\tat py4j.Gateway.invoke(Gateway.java:282)\r\n\tat py4j.commands.AbstractCommand.invokeMethod(AbstractCommand.java:132)\r\n\tat py4j.commands.CallCommand.execute(CallCommand.java:79)\r\n\tat py4j.ClientServerConnection.waitForCommands(ClientServerConnection.java:182)\r\n\tat py4j.ClientServerConnection.run(ClientServerConnection.java:106)\r\n\tat java.base/java.lang.Thread.run(Thread.java:1583)\r\nCaused by: java.io.FileNotFoundException: java.io.FileNotFoundException: HADOOP_HOME and hadoop.home.dir are unset. -see https://wiki.apache.org/hadoop/WindowsProblems\r\n\tat org.apache.hadoop.util.Shell.fileNotFoundException(Shell.java:547)\r\n\tat org.apache.hadoop.util.Shell.getHadoopHomeDir(Shell.java:568)\r\n\tat org.apache.hadoop.util.Shell.getQualifiedBin(Shell.java:591)\r\n\tat org.apache.hadoop.util.Shell.<clinit>(Shell.java:688)\r\n\tat org.apache.hadoop.util.StringUtils.<clinit>(StringUtils.java:79)\r\n\tat org.apache.hadoop.conf.Configuration.getTimeDurationHelper(Configuration.java:1907)\r\n\tat org.apache.hadoop.conf.Configuration.getTimeDuration(Configuration.java:1867)\r\n\tat org.apache.hadoop.conf.Configuration.getTimeDuration(Configuration.java:1840)\r\n\tat org.apache.hadoop.util.ShutdownHookManager.getShutdownTimeout(ShutdownHookManager.java:183)\r\n\tat org.apache.hadoop.util.ShutdownHookManager$HookEntry.<init>(ShutdownHookManager.java:207)\r\n\tat org.apache.hadoop.util.ShutdownHookManager.addShutdownHook(ShutdownHookManager.java:304)\r\n\tat org.apache.spark.util.SparkShutdownHookManager.install(ShutdownHookManager.scala:181)\r\n\tat org.apache.spark.util.ShutdownHookManager$.shutdownHooks$lzycompute(ShutdownHookManager.scala:50)\r\n\tat org.apache.spark.util.ShutdownHookManager$.shutdownHooks(ShutdownHookManager.scala:48)\r\n\tat org.apache.spark.util.ShutdownHookManager$.addShutdownHook(ShutdownHookManager.scala:153)\r\n\tat org.apache.spark.util.ShutdownHookManager$.<init>(ShutdownHookManager.scala:58)\r\n\tat org.apache.spark.util.ShutdownHookManager$.<clinit>(ShutdownHookManager.scala)\r\n\tat org.apache.spark.util.Utils$.createTempDir(Utils.scala:242)\r\n\tat org.apache.spark.util.SparkFileUtils.createTempDir(SparkFileUtils.scala:103)\r\n\tat org.apache.spark.util.SparkFileUtils.createTempDir$(SparkFileUtils.scala:102)\r\n\tat org.apache.spark.util.Utils$.createTempDir(Utils.scala:94)\r\n\tat org.apache.spark.deploy.SparkSubmit.prepareSubmitEnvironment(SparkSubmit.scala:372)\r\n\tat org.apache.spark.deploy.SparkSubmit.org$apache$spark$deploy$SparkSubmit$$runMain(SparkSubmit.scala:964)\r\n\tat org.apache.spark.deploy.SparkSubmit.doRunMain$1(SparkSubmit.scala:194)\r\n\tat org.apache.spark.deploy.SparkSubmit.submit(SparkSubmit.scala:217)\r\n\tat org.apache.spark.deploy.SparkSubmit.doSubmit(SparkSubmit.scala:91)\r\n\tat org.apache.spark.deploy.SparkSubmit$$anon$2.doSubmit(SparkSubmit.scala:1120)\r\n\tat org.apache.spark.deploy.SparkSubmit$.main(SparkSubmit.scala:1129)\r\n\tat org.apache.spark.deploy.SparkSubmit.main(SparkSubmit.scala)\r\nCaused by: java.io.FileNotFoundException: HADOOP_HOME and hadoop.home.dir are unset.\r\n\tat org.apache.hadoop.util.Shell.checkHadoopHomeInner(Shell.java:467)\r\n\tat org.apache.hadoop.util.Shell.checkHadoopHome(Shell.java:438)\r\n\tat org.apache.hadoop.util.Shell.<clinit>(Shell.java:515)\r\n\t... 25 more\r\n"
     ]
    }
   ],
   "source": [
    "from pyspark.sql import SparkSession\n",
    "\n",
    "# Initialize SparkSession\n",
    "spark = SparkSession.builder \\\n",
    "    .appName(\"DataMatching\") \\\n",
    "    .getOrCreate()\n",
    "\n",
    "# Load your DataFrames\n",
    "df_pyspark = spark.read.csv(r'C:\\Users\\User\\Desktop\\nachmann\\TODAY -TASK\\Antigravity Batteries Fitment 2024\\MERGE\\AG-ATX12-AH-RSv99.csv', header=True, inferSchema=True)\n",
    "data2 = spark.read.csv(r'C:\\Users\\User\\Desktop\\nachmann\\TODAY -TASK\\Antigravity Batteries Fitment 2024\\MERGE\\AG-ATX12-AH-RSv99.csv', header=True, inferSchema=True)\n",
    "\n",
    "# Load ARI DataFrame\n",
    "ARI = spark.read.csv(r'C:\\Users\\User\\Desktop\\nachmann\\Merged Template 1\\merged-files.csv', header=True, inferSchema=True)\n",
    "\n",
    "# Rename the column 'Type' to 'Segment'\n",
    "ARI = ARI.withColumnRenamed('Type', 'Segment')\n",
    "\n",
    "# Show the schema to verify column names\n",
    "ARI.printSchema()\n",
    "\n",
    "# Show the first few rows of ARI to verify the data\n",
    "ARI.show(10)\n",
    "\n",
    "# Show the first few rows of data2 to verify the data\n",
    "data2.show(10)\n",
    "\n",
    "# Join DataFrames based on 'Model' column\n",
    "result_df = data2.alias('d2').join(\n",
    "    ARI.alias('ari'),\n",
    "    on='Model',  # Joining on 'Model' column\n",
    "    how='left'\n",
    ").select(\n",
    "    data2['*'],  # Select all columns from data2\n",
    "    ARI['Segment']  # Add 'Segment' from ARI to the result\n",
    ")\n",
    "\n",
    "# Replace null values in the 'Segment' column with 'N/A'\n",
    "result_df = result_df.fillna({'Segment': 'N/A'})\n",
    "\n",
    "# Show the resulting DataFrame\n",
    "result_df.show(10)\n",
    "\n",
    "# Optionally, write the resulting DataFrame to a CSV file\n",
    "result_df.write.csv(r'C:\\Users\\User\\Desktop\\nachmann\\TODAY -TASK\\Antigravity Batteries Fitment 2024\\MERGE\\matched_results.csv', header=True)\n"
   ]
  },
  {
   "cell_type": "code",
   "execution_count": 32,
   "id": "21625551-2540-4be0-9bb5-1f80ffd2c93f",
   "metadata": {},
   "outputs": [
    {
     "name": "stdout",
     "output_type": "stream",
     "text": [
      "root\n",
      " |-- Segment: string (nullable = true)\n",
      " |-- Make: string (nullable = true)\n",
      " |-- Model: string (nullable = true)\n",
      " |-- Year: integer (nullable = true)\n",
      " |-- Unique: string (nullable = true)\n",
      "\n",
      "+------+----------+----+------+--------------------+--------+--------------+------+--------------------+--------------+--------+\n",
      "|  Make|     Model|Year|Vendor|         Vendor Code|Position|           MPN|   SKU|        Product Type|  Vendor Notes| Segment|\n",
      "+------+----------+----+------+--------------------+--------+--------------+------+--------------------+--------------+--------+\n",
      "|Yamaha|XC200 Riva|1987| ANTIG|ANTIGRAVITY BATTE...|    NULL|AG-ATX12-AH-RS|505045|Antigravity Batte...|ENGINE/CC: 200|Scooters|\n",
      "|Yamaha|XC200 Riva|1987| ANTIG|ANTIGRAVITY BATTE...|    NULL|AG-ATX12-AH-RS|505045|Antigravity Batte...|ENGINE/CC: 200|Scooters|\n",
      "|Yamaha|XC200 Riva|1987| ANTIG|ANTIGRAVITY BATTE...|    NULL|AG-ATX12-AH-RS|505045|Antigravity Batte...|ENGINE/CC: 200|Scooters|\n",
      "|Yamaha|XC200 Riva|1987| ANTIG|ANTIGRAVITY BATTE...|    NULL|AG-ATX12-AH-RS|505045|Antigravity Batte...|ENGINE/CC: 200|Scooters|\n",
      "|Yamaha|XC200 Riva|1987| ANTIG|ANTIGRAVITY BATTE...|    NULL|AG-ATX12-AH-RS|505045|Antigravity Batte...|ENGINE/CC: 200|Scooters|\n",
      "|Yamaha|XC200 Riva|1988| ANTIG|ANTIGRAVITY BATTE...|    NULL|AG-ATX12-AH-RS|505045|Antigravity Batte...|ENGINE/CC: 200|Scooters|\n",
      "|Yamaha|XC200 Riva|1988| ANTIG|ANTIGRAVITY BATTE...|    NULL|AG-ATX12-AH-RS|505045|Antigravity Batte...|ENGINE/CC: 200|Scooters|\n",
      "|Yamaha|XC200 Riva|1988| ANTIG|ANTIGRAVITY BATTE...|    NULL|AG-ATX12-AH-RS|505045|Antigravity Batte...|ENGINE/CC: 200|Scooters|\n",
      "|Yamaha|XC200 Riva|1988| ANTIG|ANTIGRAVITY BATTE...|    NULL|AG-ATX12-AH-RS|505045|Antigravity Batte...|ENGINE/CC: 200|Scooters|\n",
      "|Yamaha|XC200 Riva|1988| ANTIG|ANTIGRAVITY BATTE...|    NULL|AG-ATX12-AH-RS|505045|Antigravity Batte...|ENGINE/CC: 200|Scooters|\n",
      "+------+----------+----+------+--------------------+--------+--------------+------+--------------------+--------------+--------+\n",
      "only showing top 10 rows\n",
      "\n"
     ]
    }
   ],
   "source": [
    "from pyspark.sql import SparkSession\n",
    "\n",
    "# Initialize SparkSession with local file system configuration\n",
    "spark = SparkSession.builder \\\n",
    "    .appName(\"DataMatching\") \\\n",
    "    .config(\"spark.hadoop.fs.defaultFS\", \"file:///\") \\\n",
    "    .getOrCreate()\n",
    "\n",
    "# Load your DataFrames\n",
    "df_pyspark = spark.read.csv(r'C:\\Users\\User\\Desktop\\nachmann\\TODAY -TASK\\Antigravity Batteries Fitment 2024\\MERGE\\AG-ATX12-AH-RSv99.csv', header=True, inferSchema=True)\n",
    "data2 = spark.read.csv(r'C:\\Users\\User\\Desktop\\nachmann\\TODAY -TASK\\Antigravity Batteries Fitment 2024\\MERGE\\AG-ATX12-AH-RSv99.csv', header=True, inferSchema=True)\n",
    "\n",
    "# Load ARI DataFrame\n",
    "ARI = spark.read.csv(r'C:\\Users\\User\\Desktop\\nachmann\\Merged Template 1\\merged-files.csv', header=True, inferSchema=True)\n",
    "\n",
    "# Rename the column 'Type' to 'Segment'\n",
    "ARI = ARI.withColumnRenamed('Type', 'Segment')\n",
    "\n",
    "# Show the schema to verify column names\n",
    "ARI.printSchema()\n",
    "\n",
    "# Join DataFrames based on 'Model' column\n",
    "result_df = data2.alias('d2').join(\n",
    "    ARI.alias('ari'),\n",
    "    on='Model',  # Joining on 'Model' column\n",
    "    how='left'\n",
    ").select(\n",
    "    data2['*'],  # Select all columns from data2\n",
    "    ARI['Segment']  # Add 'Segment' from ARI to the result\n",
    ")\n",
    "\n",
    "# Replace null values in the 'Segment' column with 'N/A'\n",
    "result_df = result_df.fillna({'Segment': 'N/A'})\n",
    "\n",
    "# Show the resulting DataFrame\n",
    "result_df.show(10)\n"
   ]
  },
  {
   "cell_type": "code",
   "execution_count": 41,
   "id": "4ac00e9b-06b3-4949-99a4-99967eae3e7b",
   "metadata": {},
   "outputs": [
    {
     "name": "stdout",
     "output_type": "stream",
     "text": [
      "root\n",
      " |-- Make: string (nullable = true)\n",
      " |-- Model: string (nullable = true)\n",
      " |-- Year: integer (nullable = true)\n",
      " |-- Vendor: string (nullable = true)\n",
      " |-- Vendor Code: string (nullable = true)\n",
      " |-- Position: string (nullable = true)\n",
      " |-- MPN: string (nullable = true)\n",
      " |-- SKU: integer (nullable = true)\n",
      " |-- Product Type: string (nullable = true)\n",
      " |-- Vendor Notes: string (nullable = true)\n",
      "\n",
      "root\n",
      " |-- Segment: string (nullable = true)\n",
      " |-- Make: string (nullable = true)\n",
      " |-- Model: string (nullable = true)\n",
      " |-- Year: integer (nullable = true)\n",
      " |-- Unique: string (nullable = true)\n",
      "\n",
      "+--------------+------------------+------------+----+--------------------+\n",
      "|       Segment|              Make|       Model|Year|              Unique|\n",
      "+--------------+------------------+------------+----+--------------------+\n",
      "|American VTwin|American IronHorse|     Bandera|2008|American IronHors...|\n",
      "|American VTwin|American IronHorse|     Bandera|2009|American IronHors...|\n",
      "|American VTwin|American IronHorse|      Bandit|2000|American IronHors...|\n",
      "|American VTwin|American IronHorse|     Classic|2000|American IronHors...|\n",
      "|American VTwin|American IronHorse|     Classic|2001|American IronHors...|\n",
      "|American VTwin|American IronHorse|     Classic|2002|American IronHors...|\n",
      "|American VTwin|American IronHorse|Classic Chop|2008|American IronHors...|\n",
      "|American VTwin|American IronHorse|       Judge|2009|American IronHors...|\n",
      "|American VTwin|American IronHorse|      Legend|2001|American IronHors...|\n",
      "|American VTwin|American IronHorse|      Legend|2002|American IronHors...|\n",
      "|American VTwin|American IronHorse|      Legend|2003|American IronHors...|\n",
      "|American VTwin|American IronHorse|      Legend|2004|American IronHors...|\n",
      "|American VTwin|American IronHorse|      Legend|2005|American IronHors...|\n",
      "|American VTwin|American IronHorse|      Legend|2006|American IronHors...|\n",
      "|American VTwin|American IronHorse|      Legend|2007|American IronHors...|\n",
      "|American VTwin|American IronHorse|         LSC|2005|American IronHors...|\n",
      "|American VTwin|American IronHorse|         LSC|2006|American IronHors...|\n",
      "|American VTwin|American IronHorse|         LSC|2007|American IronHors...|\n",
      "|American VTwin|American IronHorse|      Outlaw|2000|American IronHors...|\n",
      "|American VTwin|American IronHorse|      Outlaw|2001|American IronHors...|\n",
      "+--------------+------------------+------------+----+--------------------+\n",
      "only showing top 20 rows\n",
      "\n",
      "+------+-----------+----+------+--------------------+--------+--------------+------+--------------------+--------------+\n",
      "|  Make|      Model|Year|Vendor|         Vendor Code|Position|           MPN|   SKU|        Product Type|  Vendor Notes|\n",
      "+------+-----------+----+------+--------------------+--------+--------------+------+--------------------+--------------+\n",
      "|Yamaha| XC200 Riva|1987| ANTIG|ANTIGRAVITY BATTE...|    NULL|AG-ATX12-AH-RS|505045|Antigravity Batte...|ENGINE/CC: 200|\n",
      "|Yamaha| XC200 Riva|1988| ANTIG|ANTIGRAVITY BATTE...|    NULL|AG-ATX12-AH-RS|505045|Antigravity Batte...|ENGINE/CC: 200|\n",
      "|Yamaha| XC200 Riva|1989| ANTIG|ANTIGRAVITY BATTE...|    NULL|AG-ATX12-AH-RS|505045|Antigravity Batte...|ENGINE/CC: 200|\n",
      "|Yamaha| XC200 Riva|1990| ANTIG|ANTIGRAVITY BATTE...|    NULL|AG-ATX12-AH-RS|505045|Antigravity Batte...|ENGINE/CC: 200|\n",
      "|Yamaha| XC200 Riva|1991| ANTIG|ANTIGRAVITY BATTE...|    NULL|AG-ATX12-AH-RS|505045|Antigravity Batte...|ENGINE/CC: 200|\n",
      "|Yamaha|XC200Z Riva|1987| ANTIG|ANTIGRAVITY BATTE...|    NULL|AG-ATX12-AH-RS|505045|Antigravity Batte...|ENGINE/CC: 200|\n",
      "|Yamaha|XC200Z Riva|1988| ANTIG|ANTIGRAVITY BATTE...|    NULL|AG-ATX12-AH-RS|505045|Antigravity Batte...|ENGINE/CC: 200|\n",
      "|Yamaha|XC200Z Riva|1989| ANTIG|ANTIGRAVITY BATTE...|    NULL|AG-ATX12-AH-RS|505045|Antigravity Batte...|ENGINE/CC: 200|\n",
      "|Yamaha|XC200Z Riva|1990| ANTIG|ANTIGRAVITY BATTE...|    NULL|AG-ATX12-AH-RS|505045|Antigravity Batte...|ENGINE/CC: 200|\n",
      "|Yamaha|XC200Z Riva|1991| ANTIG|ANTIGRAVITY BATTE...|    NULL|AG-ATX12-AH-RS|505045|Antigravity Batte...|ENGINE/CC: 200|\n",
      "+------+-----------+----+------+--------------------+--------+--------------+------+--------------------+--------------+\n",
      "\n",
      "+------+-----------+----+------+--------------------+--------+--------------+------+--------------------+--------------+--------+\n",
      "|  Make|      Model|Year|Vendor|         Vendor Code|Position|           MPN|   SKU|        Product Type|  Vendor Notes| Segment|\n",
      "+------+-----------+----+------+--------------------+--------+--------------+------+--------------------+--------------+--------+\n",
      "|Yamaha| XC200 Riva|1987| ANTIG|ANTIGRAVITY BATTE...|    NULL|AG-ATX12-AH-RS|505045|Antigravity Batte...|ENGINE/CC: 200|Scooters|\n",
      "|Yamaha| XC200 Riva|1987| ANTIG|ANTIGRAVITY BATTE...|    NULL|AG-ATX12-AH-RS|505045|Antigravity Batte...|ENGINE/CC: 200|Scooters|\n",
      "|Yamaha| XC200 Riva|1987| ANTIG|ANTIGRAVITY BATTE...|    NULL|AG-ATX12-AH-RS|505045|Antigravity Batte...|ENGINE/CC: 200|Scooters|\n",
      "|Yamaha| XC200 Riva|1987| ANTIG|ANTIGRAVITY BATTE...|    NULL|AG-ATX12-AH-RS|505045|Antigravity Batte...|ENGINE/CC: 200|Scooters|\n",
      "|Yamaha| XC200 Riva|1987| ANTIG|ANTIGRAVITY BATTE...|    NULL|AG-ATX12-AH-RS|505045|Antigravity Batte...|ENGINE/CC: 200|Scooters|\n",
      "|Yamaha| XC200 Riva|1988| ANTIG|ANTIGRAVITY BATTE...|    NULL|AG-ATX12-AH-RS|505045|Antigravity Batte...|ENGINE/CC: 200|Scooters|\n",
      "|Yamaha| XC200 Riva|1988| ANTIG|ANTIGRAVITY BATTE...|    NULL|AG-ATX12-AH-RS|505045|Antigravity Batte...|ENGINE/CC: 200|Scooters|\n",
      "|Yamaha| XC200 Riva|1988| ANTIG|ANTIGRAVITY BATTE...|    NULL|AG-ATX12-AH-RS|505045|Antigravity Batte...|ENGINE/CC: 200|Scooters|\n",
      "|Yamaha| XC200 Riva|1988| ANTIG|ANTIGRAVITY BATTE...|    NULL|AG-ATX12-AH-RS|505045|Antigravity Batte...|ENGINE/CC: 200|Scooters|\n",
      "|Yamaha| XC200 Riva|1988| ANTIG|ANTIGRAVITY BATTE...|    NULL|AG-ATX12-AH-RS|505045|Antigravity Batte...|ENGINE/CC: 200|Scooters|\n",
      "|Yamaha| XC200 Riva|1989| ANTIG|ANTIGRAVITY BATTE...|    NULL|AG-ATX12-AH-RS|505045|Antigravity Batte...|ENGINE/CC: 200|Scooters|\n",
      "|Yamaha| XC200 Riva|1989| ANTIG|ANTIGRAVITY BATTE...|    NULL|AG-ATX12-AH-RS|505045|Antigravity Batte...|ENGINE/CC: 200|Scooters|\n",
      "|Yamaha| XC200 Riva|1989| ANTIG|ANTIGRAVITY BATTE...|    NULL|AG-ATX12-AH-RS|505045|Antigravity Batte...|ENGINE/CC: 200|Scooters|\n",
      "|Yamaha| XC200 Riva|1989| ANTIG|ANTIGRAVITY BATTE...|    NULL|AG-ATX12-AH-RS|505045|Antigravity Batte...|ENGINE/CC: 200|Scooters|\n",
      "|Yamaha| XC200 Riva|1989| ANTIG|ANTIGRAVITY BATTE...|    NULL|AG-ATX12-AH-RS|505045|Antigravity Batte...|ENGINE/CC: 200|Scooters|\n",
      "|Yamaha| XC200 Riva|1990| ANTIG|ANTIGRAVITY BATTE...|    NULL|AG-ATX12-AH-RS|505045|Antigravity Batte...|ENGINE/CC: 200|Scooters|\n",
      "|Yamaha| XC200 Riva|1990| ANTIG|ANTIGRAVITY BATTE...|    NULL|AG-ATX12-AH-RS|505045|Antigravity Batte...|ENGINE/CC: 200|Scooters|\n",
      "|Yamaha| XC200 Riva|1990| ANTIG|ANTIGRAVITY BATTE...|    NULL|AG-ATX12-AH-RS|505045|Antigravity Batte...|ENGINE/CC: 200|Scooters|\n",
      "|Yamaha| XC200 Riva|1990| ANTIG|ANTIGRAVITY BATTE...|    NULL|AG-ATX12-AH-RS|505045|Antigravity Batte...|ENGINE/CC: 200|Scooters|\n",
      "|Yamaha| XC200 Riva|1990| ANTIG|ANTIGRAVITY BATTE...|    NULL|AG-ATX12-AH-RS|505045|Antigravity Batte...|ENGINE/CC: 200|Scooters|\n",
      "|Yamaha| XC200 Riva|1991| ANTIG|ANTIGRAVITY BATTE...|    NULL|AG-ATX12-AH-RS|505045|Antigravity Batte...|ENGINE/CC: 200|Scooters|\n",
      "|Yamaha| XC200 Riva|1991| ANTIG|ANTIGRAVITY BATTE...|    NULL|AG-ATX12-AH-RS|505045|Antigravity Batte...|ENGINE/CC: 200|Scooters|\n",
      "|Yamaha| XC200 Riva|1991| ANTIG|ANTIGRAVITY BATTE...|    NULL|AG-ATX12-AH-RS|505045|Antigravity Batte...|ENGINE/CC: 200|Scooters|\n",
      "|Yamaha| XC200 Riva|1991| ANTIG|ANTIGRAVITY BATTE...|    NULL|AG-ATX12-AH-RS|505045|Antigravity Batte...|ENGINE/CC: 200|Scooters|\n",
      "|Yamaha| XC200 Riva|1991| ANTIG|ANTIGRAVITY BATTE...|    NULL|AG-ATX12-AH-RS|505045|Antigravity Batte...|ENGINE/CC: 200|Scooters|\n",
      "|Yamaha|XC200Z Riva|1987| ANTIG|ANTIGRAVITY BATTE...|    NULL|AG-ATX12-AH-RS|505045|Antigravity Batte...|ENGINE/CC: 200|Scooters|\n",
      "|Yamaha|XC200Z Riva|1987| ANTIG|ANTIGRAVITY BATTE...|    NULL|AG-ATX12-AH-RS|505045|Antigravity Batte...|ENGINE/CC: 200|Scooters|\n",
      "|Yamaha|XC200Z Riva|1987| ANTIG|ANTIGRAVITY BATTE...|    NULL|AG-ATX12-AH-RS|505045|Antigravity Batte...|ENGINE/CC: 200|Scooters|\n",
      "|Yamaha|XC200Z Riva|1988| ANTIG|ANTIGRAVITY BATTE...|    NULL|AG-ATX12-AH-RS|505045|Antigravity Batte...|ENGINE/CC: 200|Scooters|\n",
      "|Yamaha|XC200Z Riva|1988| ANTIG|ANTIGRAVITY BATTE...|    NULL|AG-ATX12-AH-RS|505045|Antigravity Batte...|ENGINE/CC: 200|Scooters|\n",
      "|Yamaha|XC200Z Riva|1988| ANTIG|ANTIGRAVITY BATTE...|    NULL|AG-ATX12-AH-RS|505045|Antigravity Batte...|ENGINE/CC: 200|Scooters|\n",
      "|Yamaha|XC200Z Riva|1989| ANTIG|ANTIGRAVITY BATTE...|    NULL|AG-ATX12-AH-RS|505045|Antigravity Batte...|ENGINE/CC: 200|Scooters|\n",
      "|Yamaha|XC200Z Riva|1989| ANTIG|ANTIGRAVITY BATTE...|    NULL|AG-ATX12-AH-RS|505045|Antigravity Batte...|ENGINE/CC: 200|Scooters|\n",
      "|Yamaha|XC200Z Riva|1989| ANTIG|ANTIGRAVITY BATTE...|    NULL|AG-ATX12-AH-RS|505045|Antigravity Batte...|ENGINE/CC: 200|Scooters|\n",
      "|Yamaha|XC200Z Riva|1990| ANTIG|ANTIGRAVITY BATTE...|    NULL|AG-ATX12-AH-RS|505045|Antigravity Batte...|ENGINE/CC: 200|Scooters|\n",
      "|Yamaha|XC200Z Riva|1990| ANTIG|ANTIGRAVITY BATTE...|    NULL|AG-ATX12-AH-RS|505045|Antigravity Batte...|ENGINE/CC: 200|Scooters|\n",
      "|Yamaha|XC200Z Riva|1990| ANTIG|ANTIGRAVITY BATTE...|    NULL|AG-ATX12-AH-RS|505045|Antigravity Batte...|ENGINE/CC: 200|Scooters|\n",
      "|Yamaha|XC200Z Riva|1991| ANTIG|ANTIGRAVITY BATTE...|    NULL|AG-ATX12-AH-RS|505045|Antigravity Batte...|ENGINE/CC: 200|Scooters|\n",
      "|Yamaha|XC200Z Riva|1991| ANTIG|ANTIGRAVITY BATTE...|    NULL|AG-ATX12-AH-RS|505045|Antigravity Batte...|ENGINE/CC: 200|Scooters|\n",
      "|Yamaha|XC200Z Riva|1991| ANTIG|ANTIGRAVITY BATTE...|    NULL|AG-ATX12-AH-RS|505045|Antigravity Batte...|ENGINE/CC: 200|Scooters|\n",
      "+------+-----------+----+------+--------------------+--------+--------------+------+--------------------+--------------+--------+\n",
      "\n"
     ]
    }
   ],
   "source": [
    "from pyspark.sql import SparkSession\n",
    "\n",
    "# Initialize SparkSession with local file system configuration\n",
    "spark = SparkSession.builder \\\n",
    "    .appName(\"DataMatching\") \\\n",
    "    .config(\"spark.hadoop.fs.defaultFS\", \"file:///\") \\\n",
    "    .config(\"spark.hadoop.hadoop.home.dir\", \"C:/hadoop\") \\\n",
    "    .getOrCreate()\n",
    "\n",
    "# Load your DataFrames\n",
    "df_pyspark = spark.read.csv(r'C:\\Users\\User\\Desktop\\nachmann\\TODAY -TASK\\Antigravity Batteries Fitment 2024\\MERGE\\AG-ATX12-AH-RSv99.csv', header=True, inferSchema=True)\n",
    "data2 = spark.read.csv(r'C:\\Users\\User\\Desktop\\nachmann\\TODAY -TASK\\Antigravity Batteries Fitment 2024\\MERGE\\AG-ATX12-AH-RSv99.csv', header=True, inferSchema=True)\n",
    "data2.printSchema()\n",
    "# Load ARI DataFrame\n",
    "ARI = spark.read.csv(r'C:\\Users\\User\\Desktop\\nachmann\\Merged Template 1\\merged-files.csv', header=True, inferSchema=True)\n",
    "\n",
    "# Rename the column 'Type' to 'Segment'\n",
    "ARI = ARI.withColumnRenamed('Type', 'Segment')\n",
    "\n",
    "# Show the schema to verify column names\n",
    "ARI.printSchema()\n",
    "\n",
    "\n",
    "ARI.show()\n",
    "data2.show()\n",
    "# Join DataFrames based on 'Model' column\n",
    "result_df = data2.alias('d2').join(\n",
    "    ARI.alias('ari'),\n",
    "    on='Model',  # Joining on 'Model' column\n",
    "    how='left'\n",
    ").select(\n",
    "    data2['*'],  # Select all columns from data2\n",
    "    ARI['Segment']  # Add 'Segment' from ARI to the result\n",
    ")\n",
    "\n",
    "# Replace null values in the 'Segment' column with 'N/A'\n",
    "result_df = result_df.fillna({'Segment': 'N/A'})\n",
    "\n",
    "# Show the resulting DataFrame\n",
    "result_df.show(100)\n",
    "\n",
    "\n",
    "\n"
   ]
  },
  {
   "cell_type": "code",
   "execution_count": null,
   "id": "2351f009-6b38-4d61-a3b3-d72165bdc461",
   "metadata": {},
   "outputs": [],
   "source": []
  }
 ],
 "metadata": {
  "kernelspec": {
   "display_name": "Python 3 (ipykernel)",
   "language": "python",
   "name": "python3"
  },
  "language_info": {
   "codemirror_mode": {
    "name": "ipython",
    "version": 3
   },
   "file_extension": ".py",
   "mimetype": "text/x-python",
   "name": "python",
   "nbconvert_exporter": "python",
   "pygments_lexer": "ipython3",
   "version": "3.11.9"
  }
 },
 "nbformat": 4,
 "nbformat_minor": 5
}
